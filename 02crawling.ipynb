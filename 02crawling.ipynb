{
 "cells": [
  {
   "cell_type": "markdown",
   "id": "19e8035a-11a8-4425-bbf0-124c91f01a05",
   "metadata": {},
   "source": [
    "## user agent 설정하기\n",
    "* 특정 사이트는 스크래핑이나 크롤링을 막기 위한 방편으로\n",
    "* 사이트에 접속하는 사용자의 user agent를 확인함\n",
    "* UA없이 사이트 접속을 시도하면 접속권한의 의미로\n",
    "* 403 응답코드와 함께 접속을 금지하기도 함"
   ]
  },
  {
   "cell_type": "code",
   "execution_count": null,
   "id": "c956e41f-89c9-498c-8a05-a675ba9ed779",
   "metadata": {},
   "outputs": [],
   "source": []
  }
 ],
 "metadata": {
  "kernelspec": {
   "display_name": "Python 3 (ipykernel)",
   "language": "python",
   "name": "python3"
  },
  "language_info": {
   "codemirror_mode": {
    "name": "ipython",
    "version": 3
   },
   "file_extension": ".py",
   "mimetype": "text/x-python",
   "name": "python",
   "nbconvert_exporter": "python",
   "pygments_lexer": "ipython3",
   "version": "3.11.4"
  }
 },
 "nbformat": 4,
 "nbformat_minor": 5
}
