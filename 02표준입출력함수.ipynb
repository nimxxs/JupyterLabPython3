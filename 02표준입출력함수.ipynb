{
 "cells": [
  {
   "cell_type": "markdown",
   "id": "939f8ca8-6185-43d0-8663-0c20afba1ca6",
   "metadata": {},
   "source": [
    "# 파이썬 표준 입출력함수"
   ]
  },
  {
   "cell_type": "markdown",
   "id": "4dadcd45-2457-485e-b79e-2bd0d86afca0",
   "metadata": {},
   "source": [
    "### 출력함수\n",
    "`print(출력할값, sep=구분자, end=종결자)`"
   ]
  },
  {
   "cell_type": "code",
   "execution_count": 1,
   "id": "e099e1a4-c87c-4fbe-892c-0b264c6e0d79",
   "metadata": {},
   "outputs": [
    {
     "name": "stdout",
     "output_type": "stream",
     "text": [
      "Jave Python R\n"
     ]
    }
   ],
   "source": [
    "print('Jave', 'Python', 'R')"
   ]
  },
  {
   "cell_type": "code",
   "execution_count": 2,
   "id": "fb51316d-0f64-43ef-b402-e06d597f5940",
   "metadata": {},
   "outputs": [
    {
     "name": "stdout",
     "output_type": "stream",
     "text": [
      "Jave,Python,R\n"
     ]
    }
   ],
   "source": [
    "print('Jave', 'Python', 'R', sep=',')"
   ]
  },
  {
   "cell_type": "code",
   "execution_count": 3,
   "id": "260555c0-1012-48f4-a969-66ec1bbef464",
   "metadata": {},
   "outputs": [
    {
     "name": "stdout",
     "output_type": "stream",
     "text": [
      "Jave\n",
      "Python\n",
      "R\n"
     ]
    }
   ],
   "source": [
    "print('Jave')\n",
    "print('Python')\n",
    "print('R')"
   ]
  },
  {
   "cell_type": "code",
   "execution_count": 4,
   "id": "868bf4ce-e9c5-4ce0-b53d-27b4b28500c0",
   "metadata": {},
   "outputs": [
    {
     "name": "stdout",
     "output_type": "stream",
     "text": [
      "Jave Python R "
     ]
    }
   ],
   "source": [
    "print('Jave', end=' ')\n",
    "print('Python', end=' ')\n",
    "print('R', end=' ')"
   ]
  },
  {
   "cell_type": "code",
   "execution_count": 8,
   "id": "ab4f587b-80f8-4738-b3aa-dbe4d6aa7847",
   "metadata": {},
   "outputs": [
    {
     "name": "stdout",
     "output_type": "stream",
     "text": [
      "Python Python Python Python Python Python Python Python Python Python \n"
     ]
    }
   ],
   "source": [
    "print('Python ' * 10)"
   ]
  },
  {
   "cell_type": "code",
   "execution_count": 7,
   "id": "4bed1cb3-f704-4016-99b2-615739bf1a31",
   "metadata": {},
   "outputs": [
    {
     "data": {
      "text/plain": [
       "'Python Python Python Python Python Python Python Python Python Python '"
      ]
     },
     "execution_count": 7,
     "metadata": {},
     "output_type": "execute_result"
    }
   ],
   "source": [
    "'Python ' * 10"
   ]
  },
  {
   "cell_type": "markdown",
   "id": "448d5499-5cf3-4b0f-8c1c-053f2dcdbbc7",
   "metadata": {},
   "source": [
    "### 문자열 포맷\n",
    "`'포맷문자열 % (변수)'`"
   ]
  },
  {
   "cell_type": "code",
   "execution_count": 24,
   "id": "6d930039-5351-4764-b247-beaa5383f7fa",
   "metadata": {
    "tags": []
   },
   "outputs": [],
   "source": [
    "name = '수지'\n",
    "age = 35\n",
    "date = '2023-08-01'"
   ]
  },
  {
   "cell_type": "code",
   "execution_count": 21,
   "id": "bc665c16-5b73-475e-8134-86669cd40937",
   "metadata": {},
   "outputs": [
    {
     "data": {
      "text/plain": [
       "'당신의 이름은 수지 이고, 나이는 35 이며, 오늘은 2023-08-01 입니다.'"
      ]
     },
     "execution_count": 21,
     "metadata": {},
     "output_type": "execute_result"
    }
   ],
   "source": [
    "fmt = '당신의 이름은 %s 이고, 나이는 %d 이며, 오늘은 %s 입니다.'\n",
    "\n",
    "fmt % (name, age, date)"
   ]
  },
  {
   "cell_type": "code",
   "execution_count": 26,
   "id": "2a614f5f-5261-4a97-a797-f29bd3897922",
   "metadata": {},
   "outputs": [
    {
     "data": {
      "text/plain": [
       "'당신의 평균점수는 99.8 입니다.'"
      ]
     },
     "execution_count": 26,
     "metadata": {},
     "output_type": "execute_result"
    }
   ],
   "source": [
    "avg = 99.7654321\n",
    "fmt = '당신의 평균점수는 %.1f 입니다.' # 소수점 첫째자리까지 계산\n",
    "\n",
    "fmt % (avg)"
   ]
  },
  {
   "cell_type": "code",
   "execution_count": 31,
   "id": "373a172d-5b9a-49e1-98d5-c889b99e09bd",
   "metadata": {},
   "outputs": [
    {
     "data": {
      "text/plain": [
       "'핑크 향수의 가격은 123456789 입니다.'"
      ]
     },
     "execution_count": 31,
     "metadata": {},
     "output_type": "execute_result"
    }
   ],
   "source": [
    "price = 123456789\n",
    "fmt = '핑크 향수의 가격은 %d 입니다.'\n",
    "\n",
    "fmt % (price) # 콤마 지원 안함 - locale 객체 이용"
   ]
  },
  {
   "cell_type": "markdown",
   "id": "99da2149-de31-481d-960e-cd1da4d2a8f0",
   "metadata": {},
   "source": [
    "`'포맷문자열.format(변수)'`"
   ]
  },
  {
   "cell_type": "code",
   "execution_count": 12,
   "id": "f294ac43-c2f9-4d21-af67-e4c3b3e78d64",
   "metadata": {},
   "outputs": [
    {
     "data": {
      "text/plain": [
       "'당신의 이름은 수지 이고, 나이는 35 이며, 오늘은 2023-08-01 입니다.'"
      ]
     },
     "execution_count": 12,
     "metadata": {},
     "output_type": "execute_result"
    }
   ],
   "source": [
    "fmt = '당신의 이름은 {} 이고, 나이는 {} 이며, 오늘은 {} 입니다.'\n",
    "\n",
    "fmt.format(name, age, date)"
   ]
  },
  {
   "cell_type": "code",
   "execution_count": 13,
   "id": "7a220c8b-889c-49eb-8f23-41fece6cb9fb",
   "metadata": {},
   "outputs": [
    {
     "data": {
      "text/plain": [
       "'당신의 이름은 2023-08-01 이고, 나이는 35 이며, 오늘은 수지 입니다.'"
      ]
     },
     "execution_count": 13,
     "metadata": {},
     "output_type": "execute_result"
    }
   ],
   "source": [
    "fmt = '당신의 이름은 {2} 이고, 나이는 {1} 이며, 오늘은 {0} 입니다.'\n",
    "\n",
    "fmt.format(name, age, date)"
   ]
  },
  {
   "cell_type": "code",
   "execution_count": 14,
   "id": "8b296bd1-15d1-4151-affb-92395703150b",
   "metadata": {},
   "outputs": [
    {
     "data": {
      "text/plain": [
       "'당신의 이름은 35 이고, 나이는 2023-08-01 이며, 오늘은 수지 입니다.'"
      ]
     },
     "execution_count": 14,
     "metadata": {},
     "output_type": "execute_result"
    }
   ],
   "source": [
    "fmt = '당신의 이름은 {x} 이고, 나이는 {y} 이며, 오늘은 {z} 입니다.'\n",
    "\n",
    "fmt.format(z=name, x=age, y=date)"
   ]
  },
  {
   "cell_type": "code",
   "execution_count": 16,
   "id": "07a6daae-67c8-41f3-a571-0e8db9148ce3",
   "metadata": {},
   "outputs": [
    {
     "data": {
      "text/plain": [
       "'당신의 평균점수는 99.8 입니다.'"
      ]
     },
     "execution_count": 16,
     "metadata": {},
     "output_type": "execute_result"
    }
   ],
   "source": [
    "avg = 99.7654321\n",
    "fmt = '당신의 평균점수는 {:.1f} 입니다.'\n",
    "\n",
    "fmt.format(avg)"
   ]
  },
  {
   "cell_type": "code",
   "execution_count": 19,
   "id": "f6c66dad-1b42-4589-8341-1451a04ff7a2",
   "metadata": {},
   "outputs": [
    {
     "data": {
      "text/plain": [
       "'핑크 향수의 가격은 123,456,789 입니다.'"
      ]
     },
     "execution_count": 19,
     "metadata": {},
     "output_type": "execute_result"
    }
   ],
   "source": [
    "price = 123456789\n",
    "fmt = '핑크 향수의 가격은 {:,} 입니다.'\n",
    "\n",
    "fmt.format(price)"
   ]
  },
  {
   "cell_type": "markdown",
   "id": "3da895cb-147a-4c26-aec9-46c825876205",
   "metadata": {},
   "source": [
    "`f'포맷문자열'(python 3.6+ 추가)`"
   ]
  },
  {
   "cell_type": "code",
   "execution_count": 36,
   "id": "0961d97d-f070-4b68-90cf-3bd39b7141dc",
   "metadata": {},
   "outputs": [
    {
     "name": "stdout",
     "output_type": "stream",
     "text": [
      "당신의 이름은 수지 이고, 나이는 35 이며, 오늘은 2023-08-01 입니다.\n"
     ]
    }
   ],
   "source": [
    "fmt = f'당신의 이름은 {name} 이고, 나이는 {age} 이며, 오늘은 {date} 입니다.'\n",
    "\n",
    "print(fmt)"
   ]
  },
  {
   "cell_type": "code",
   "execution_count": 40,
   "id": "5c291bad-9252-448e-8d6f-f17aa4b916c9",
   "metadata": {},
   "outputs": [
    {
     "name": "stdout",
     "output_type": "stream",
     "text": [
      "당신의 평균점수는 99.8 입니다.\n"
     ]
    }
   ],
   "source": [
    "fmt = f'당신의 평균점수는 {avg:.1f} 입니다.'\n",
    "\n",
    "print(fmt)"
   ]
  },
  {
   "cell_type": "code",
   "execution_count": 42,
   "id": "949ca3f9-8dab-4f47-b5f3-4f28bd8c10e8",
   "metadata": {},
   "outputs": [
    {
     "name": "stdout",
     "output_type": "stream",
     "text": [
      "핑크 향수의 가격은 123,456,789 입니다.\n"
     ]
    }
   ],
   "source": [
    "fmt = f'핑크 향수의 가격은 {price:,} 입니다.'\n",
    "\n",
    "print(fmt)"
   ]
  },
  {
   "cell_type": "markdown",
   "id": "2588ec9c-322f-47b9-a803-04a303ccb2d1",
   "metadata": {},
   "source": [
    "### 표준입력함수\n",
    "`input(입력안내문자열)`"
   ]
  },
  {
   "cell_type": "code",
   "execution_count": 47,
   "id": "c2f370f8-b424-4c5c-871b-099d9f5f29ca",
   "metadata": {},
   "outputs": [
    {
     "name": "stdin",
     "output_type": "stream",
     "text": [
      "이름은 :  수민\n",
      "나이는 :  27\n",
      "오늘 날짜는 :  2023-08-01\n"
     ]
    },
    {
     "name": "stdout",
     "output_type": "stream",
     "text": [
      "당신의 이름은 수민 이고, 나이는 27 이며, 오늘은 2023-08-01 입니다.\n"
     ]
    }
   ],
   "source": [
    "name = input('이름은 : ')\n",
    "age = input('나이는 : ')\n",
    "date = input('오늘 날짜는 : ')\n",
    "\n",
    "fmt = f'당신의 이름은 {name} 이고, 나이는 {age} 이며, 오늘은 {date} 입니다.'\n",
    "print(fmt)"
   ]
  },
  {
   "cell_type": "markdown",
   "id": "b17790b8-f686-488e-af86-c5523374b711",
   "metadata": {},
   "source": [
    "### 실습문제\n",
    "`성적처리프로그램 v1` <br />\n",
    "* 입력값 : 이름, 국어, 영어, 수학\n",
    "* 출력값 : 이름, 국어, 영어, 수학 점수, 총점, 평균\n",
    "* 평균은 소수점 둘째자리까지"
   ]
  },
  {
   "cell_type": "code",
   "execution_count": 58,
   "id": "ba38594f-3c28-4043-abf9-f03a8b53cd42",
   "metadata": {
    "collapsed": true,
    "jupyter": {
     "outputs_hidden": true
    },
    "tags": []
   },
   "outputs": [
    {
     "name": "stdin",
     "output_type": "stream",
     "text": [
      "이름 :  태은\n",
      "국어 점수는 :  10\n",
      "영어 점수는 :  10\n",
      "수학 점수는 :  10\n"
     ]
    },
    {
     "name": "stdout",
     "output_type": "stream",
     "text": [
      "태은 의 총점은 30 평균은 10.00\n"
     ]
    }
   ],
   "source": [
    "name = input('이름 : ')\n",
    "kor = int(input('국어 점수는 : '))\n",
    "eng = int(input('영어 점수는 : '))\n",
    "mat = int(input('수학 점수는 : '))\n",
    "\n",
    "total = kor + eng + mat  # input 타입만 쓰면 +는 문자열이 붙어지기만 함 ex)101010\n",
    "avg = total / 3\n",
    "\n",
    "print('{} 의 총점은 {} 평균은 {:.2f}'.format(name,total,avg))"
   ]
  },
  {
   "cell_type": "code",
   "execution_count": 63,
   "id": "b92c705a-f56c-4f2f-a7d9-c70276a16f09",
   "metadata": {
    "tags": []
   },
   "outputs": [
    {
     "name": "stdout",
     "output_type": "stream",
     "text": [
      "이름 : 태은, 국어 : 10, 영어 : 10, 수학 : 10\n",
      "총점 : 30, 평균 : 10.00\n"
     ]
    }
   ],
   "source": [
    "fmt = f'''이름 : {name}, 국어 : {kor}, 영어 : {eng}, 수학 : {mat}\n",
    "총점 : {total}, 평균 : {avg:.2f}'''\n",
    "    \n",
    "print(fmt)"
   ]
  }
 ],
 "metadata": {
  "kernelspec": {
   "display_name": "Python 3 (ipykernel)",
   "language": "python",
   "name": "python3"
  },
  "language_info": {
   "codemirror_mode": {
    "name": "ipython",
    "version": 3
   },
   "file_extension": ".py",
   "mimetype": "text/x-python",
   "name": "python",
   "nbconvert_exporter": "python",
   "pygments_lexer": "ipython3",
   "version": "3.11.4"
  },
  "toc-autonumbering": false,
  "toc-showcode": false
 },
 "nbformat": 4,
 "nbformat_minor": 5
}
