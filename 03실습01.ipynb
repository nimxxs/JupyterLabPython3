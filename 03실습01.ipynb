{
 "cells": [
  {
   "cell_type": "markdown",
   "id": "4c859f4c-6d76-4517-ba6a-74259cf3074a",
   "metadata": {},
   "source": [
    "## 실습하기 01"
   ]
  },
  {
   "cell_type": "code",
   "execution_count": 68,
   "id": "df5d6e4a-7345-4894-9a62-e7e56f22a86c",
   "metadata": {},
   "outputs": [
    {
     "name": "stdin",
     "output_type": "stream",
     "text": [
      "받은 금액은 :  50000\n",
      "소주 병 수는 :  2\n",
      "치킨 마리수는 :  1\n"
     ]
    },
    {
     "name": "stdout",
     "output_type": "stream",
     "text": [
      "    \n",
      "[ 음식나라 ]\n",
      "----------------------------------\n",
      "소주         2        6000\n",
      "치킨         1        12000\n",
      "----------------------------------\n",
      "과세합계              16200\n",
      "부가세                1800\n",
      "----------------------------------\n",
      "총합계                18000\n",
      "받은금액              50000\n",
      "거스름돈              32000\n",
      "----------------------------------\n"
     ]
    }
   ],
   "source": [
    "soju = 3000\n",
    "chic = 12000\n",
    "money = int(input('받은 금액은 : '))\n",
    "\n",
    "n = int(input('소주 병 수는 : '))\n",
    "m = int(input('치킨 마리수는 : '))\n",
    "\n",
    "total = (soju*n) + (chic*m)\n",
    "boo = int(total * 0.1)\n",
    "jan = money - total\n",
    "\n",
    "print('    ')\n",
    "print('[ 음식나라 ]')\n",
    "print('----------------------------------')\n",
    "print('소주        ',n,'      ', soju * n)\n",
    "print('치킨        ',m,'      ', chic * m)\n",
    "print('----------------------------------')\n",
    "print('과세합계             ', total - boo)\n",
    "print('부가세               ', boo)\n",
    "print('----------------------------------')\n",
    "print('총합계               ', total)\n",
    "print('받은금액             ', money)\n",
    "print('거스름돈             ', jan)\n",
    "print('----------------------------------')"
   ]
  },
  {
   "cell_type": "markdown",
   "id": "8be22ee5-b2e3-4874-8e5f-c0295f652f2f",
   "metadata": {},
   "source": [
    "$3x$ $3x+y$ ${x+y}\\over 7$\n",
    "${3x+y}\\over {z+2}$"
   ]
  },
  {
   "cell_type": "markdown",
   "id": "baaf57db-05f1-43b3-8d00-0925acc8d22a",
   "metadata": {},
   "source": [
    "$s = {s_0 + v_0t} + {1\\over 2}gt^2$"
   ]
  },
  {
   "cell_type": "markdown",
   "id": "678b755b-b282-4960-8794-81ff8c9e42cf",
   "metadata": {},
   "source": [
    "### 영수증 출력문제"
   ]
  },
  {
   "cell_type": "code",
   "execution_count": 7,
   "id": "8463520f-e08d-40a4-9677-cd4b7fa05758",
   "metadata": {},
   "outputs": [
    {
     "name": "stdin",
     "output_type": "stream",
     "text": [
      "소주는?  2\n",
      "치킨은?  1\n",
      "지불금액은?  50000\n"
     ]
    }
   ],
   "source": [
    "soju = int(input('소주는? '))\n",
    "chicken = int(input('치킨은? '))\n",
    "pay = int(input('지불금액은? '))\n",
    "\n",
    "tsoju = soju * 3000\n",
    "tchicken = chicken * 12000\n",
    "\n",
    "ssum = (tsoju + tchicken) * 0.9\n",
    "vat = ssum / 9 * 1\n",
    "sum = ssum + vat \n",
    "\n",
    "charge = pay - sum\n",
    "date = '2023. 08. 02 10:05:15'"
   ]
  },
  {
   "cell_type": "code",
   "execution_count": 8,
   "id": "54dec882-8243-4aab-a0a7-fa7832d3595d",
   "metadata": {},
   "outputs": [
    {
     "name": "stdout",
     "output_type": "stream",
     "text": [
      "\n",
      "[ 음식나라 ]\n",
      "-----------------------------------------------\n",
      "소주\t2\t6000\n",
      "너나치킨\t1\t12000\n",
      "-----------------------------------------------\n",
      "과세합계\t \t16200\n",
      "부가세\t \t1800\n",
      "-----------------------------------------------\n",
      "총합계\t \t18000\n",
      "받은금액\t \t50000\n",
      "잔돈\t \t32000\n",
      "-----------------------------------------------\n",
      "2023. 08. 02 10:05:15\n",
      "\n",
      "\n"
     ]
    }
   ],
   "source": [
    "paper = f'''\n",
    "\n",
    "[ 음식나라 ]\n",
    "-----------------------------------------------\n",
    "소주\\t{soju}\\t{tsoju}\n",
    "너나치킨\\t{chicken}\\t{tchicken}\n",
    "-----------------------------------------------\n",
    "과세합계\\t \\t{ssum:.0f}\n",
    "부가세\\t \\t{vat:.0f}\n",
    "-----------------------------------------------\n",
    "총합계\\t \\t{sum:.0f}\n",
    "받은금액\\t \\t{pay:.0f}\n",
    "잔돈\\t \\t{charge:.0f}\n",
    "-----------------------------------------------\n",
    "{date}\n",
    "\n",
    "'''\n",
    "\n",
    "print(paper)"
   ]
  },
  {
   "cell_type": "markdown",
   "id": "a79c4377-037a-483d-9d38-f334f4cd0db7",
   "metadata": {},
   "source": [
    "### 수학식을 파이썬 표현식으로 출력"
   ]
  },
  {
   "cell_type": "code",
   "execution_count": 3,
   "id": "71b24e3d-c169-426b-b138-817590a7e9e9",
   "metadata": {},
   "outputs": [
    {
     "name": "stdout",
     "output_type": "stream",
     "text": [
      "9\n",
      "14\n"
     ]
    }
   ],
   "source": [
    "x, y, z = 3, 5, 7\n",
    "s0, v0, t, g = 3, 5, 7, 9.8\n",
    "\n",
    "print(3 * x)\n",
    "print(3 * x + y)\n",
    "print((x + y) / 7)\n",
    "print((3 * x + y) / (z + 2))\n",
    "print(s0 + v0 * t + (1/2 * g * t ** 2))"
   ]
  },
  {
   "cell_type": "markdown",
   "id": "95a58595-110f-47eb-a6c8-15ff00699bc6",
   "metadata": {},
   "source": [
    "### 파이썬 표현식 좀 더 살펴보기"
   ]
  },
  {
   "cell_type": "code",
   "execution_count": 6,
   "id": "58a140d2-1198-4ff0-bb99-ebbc586cafb0",
   "metadata": {},
   "outputs": [
    {
     "name": "stdout",
     "output_type": "stream",
     "text": [
      "15.375\n",
      "True\n",
      "True\n",
      "2.666666666666667\n",
      "False\n",
      "True\n",
      "-59\n"
     ]
    }
   ],
   "source": [
    "print(3 + 4.5 * 2 + 27 / 8)\n",
    "print(True or False and 3 < 4 or not(5 == 7))\n",
    "print(True or (3 < 5 and 6 >= 2))\n",
    "#print(not True > 'A')\n",
    "#print(7 % 4 + 3 - 2 / 6 * 'Z')\n",
    "#print('D' + 1 + 'M' % 2 / 3)\n",
    "print(5.0 / 3 + 3 / 3)\n",
    "print( 53 % 21 < 45 / 18)\n",
    "print((4 < 6) or True and False or False and (2 > 3))\n",
    "print(7 - (3 + 8 * 6 + 3) - (2 + 5 * 2))"
   ]
  },
  {
   "cell_type": "code",
   "execution_count": 15,
   "id": "a9226474-8626-41ba-b3e2-10803ec41fff",
   "metadata": {},
   "outputs": [
    {
     "name": "stdout",
     "output_type": "stream",
     "text": [
      " May 13, 1988 fell on day number \n",
      "4.810000000000002\n",
      " Check out this line  \n",
      "Print both of us Me too\n",
      "Reverse IT\n",
      "\n"
     ]
    },
    {
     "data": {
      "text/plain": [
       "<function print>"
      ]
     },
     "execution_count": 15,
     "metadata": {},
     "output_type": "execute_result"
    }
   ],
   "source": [
    "print( \" May 13, 1988 fell on day number \")\n",
    "\n",
    "print( ( (13 + (13 * 3 - 1) / 5 + 1988 % 100 + 1988 % 100 / 4 + 1988 / 400\n",
    "                 - 2 * (1988 / 100) ) % 7 + 7) % 7 )\n",
    "print( \" Check out this line  \")\n",
    "#print( \" //hello there \" + '9' + 7 )\n",
    "#print( 'H' + 'I' + \" is \" + 1 + \"more example\" )\n",
    "#print( 'H' + 6.5 + 'I' + \" is \" + 1 + \"more example\" )\n",
    "print( \"Print both of us\", \"Me too\" )\n",
    "print( \"Reverse \" + 'I' + 'T' )\n",
    "#print( \"Nonot Here is\" + 1 + \"more example\" )\n",
    "#print( \"Here is \" + 10 * 10) # that’s 100 \n",
    "#print( \"Not x is \" +  True ) # that’s true.\n",
    "print(  )\n",
    "print\n",
    "#print( \"How about this one\" ++ '?' + 'Huh?' )"
   ]
  },
  {
   "cell_type": "code",
   "execution_count": 18,
   "id": "b2d58e3c-1746-4580-bcd5-d40eb0d6cefd",
   "metadata": {},
   "outputs": [
    {
     "name": "stdout",
     "output_type": "stream",
     "text": [
      "True\n",
      "True\n",
      "True\n",
      "True\n",
      "True\n"
     ]
    }
   ],
   "source": [
    "print(True and False and True or True)\n",
    "print(True or True and True and False)\n",
    "print((True and False) or (True and not False) or (False and not False))\n",
    "print((2 < 3) or (5 > 2) and not(4 == 4) or 9 != 4)\n",
    "print(6 == 9 or 5 < 6 and 8 < 4 or 4 > 3)"
   ]
  },
  {
   "cell_type": "markdown",
   "id": "b2276416-0f9c-48ef-b31e-1f2dcc1dedcf",
   "metadata": {},
   "source": [
    "### 이름, 몸무게, 나이 출력하기"
   ]
  },
  {
   "cell_type": "code",
   "execution_count": 23,
   "id": "9f996c47-5ed0-45b5-9450-462e2c43adb9",
   "metadata": {},
   "outputs": [
    {
     "name": "stdout",
     "output_type": "stream",
     "text": [
      "이름은 수민이고요, 몸무게는 65.5kg이며, 나이는 27살입니다.\n"
     ]
    }
   ],
   "source": [
    "name = '수민'\n",
    "weight = 65.5\n",
    "age = 27\n",
    "\n",
    "fmt = f'이름은 {name}이고요, 몸무게는 {weight}kg이며, 나이는 {age}살입니다.'\n",
    "print(fmt)"
   ]
  },
  {
   "cell_type": "markdown",
   "id": "0c4d9e5a-4263-4d46-849e-12e35fd81d3e",
   "metadata": {},
   "source": [
    "### 나이 계산 1\n",
    "* 연나이 : 현재연도 - 출생연도\n",
    "* 세는나이 : 현재연도 - 출생연도 +1 (태어날 때부터 한 살 먹음)"
   ]
  },
  {
   "cell_type": "code",
   "execution_count": 25,
   "id": "b1a03abd-fc53-41ca-8191-194b3d395653",
   "metadata": {},
   "outputs": [
    {
     "name": "stdin",
     "output_type": "stream",
     "text": [
      "출생년도는? 1997\n"
     ]
    },
    {
     "name": "stdout",
     "output_type": "stream",
     "text": [
      "현재년도는 2023년이고, 출생년도가 1997년이라면, 나이는 26살입니다.\n"
     ]
    }
   ],
   "source": [
    "byear = int(input('출생년도는?'))\n",
    "cyear = 2023\n",
    "age = cyear - byear\n",
    "\n",
    "fmt = f'현재년도는 {cyear}년이고, 출생년도가 {byear}년이라면, 나이는 {age}살입니다.'\n",
    "print(fmt)"
   ]
  },
  {
   "cell_type": "markdown",
   "id": "bb1699b6-36e0-4998-a81a-ac449170ebd0",
   "metadata": {},
   "source": [
    "### 구구단 출력 1\n",
    "* 7단 출력"
   ]
  },
  {
   "cell_type": "code",
   "execution_count": 30,
   "id": "67d2911f-c3ec-4e8d-b16a-8d11c060597e",
   "metadata": {},
   "outputs": [
    {
     "name": "stdout",
     "output_type": "stream",
     "text": [
      "\n",
      "7 x 1 =  7\n",
      "7 x 2 = 14\n",
      "7 x 3 = 21\n",
      "7 x 4 = 28\n",
      "7 x 5 = 35\n",
      "7 x 6 = 42\n",
      "7 x 7 = 49\n",
      "7 x 8 = 56\n",
      "7 x 9 = 63\n",
      "\n"
     ]
    }
   ],
   "source": [
    "fmt = f'''\n",
    "7 x 1 = {7 * 1:2d}\n",
    "7 x 2 = {7 * 2:2d}\n",
    "7 x 3 = {7 * 3:2d}\n",
    "7 x 4 = {7 * 4:2d}\n",
    "7 x 5 = {7 * 5:2d}\n",
    "7 x 6 = {7 * 6:2d}\n",
    "7 x 7 = {7 * 7:2d}\n",
    "7 x 8 = {7 * 8:2d}\n",
    "7 x 9 = {7 * 9:2d}\n",
    "'''\n",
    "\n",
    "print(fmt)"
   ]
  },
  {
   "cell_type": "markdown",
   "id": "a2f9d4a0-51b9-40d0-a71f-17a8c2cb269a",
   "metadata": {},
   "source": [
    "### 시간 계산"
   ]
  },
  {
   "cell_type": "code",
   "execution_count": 36,
   "id": "93c62875-afa9-4627-a07b-6afda041992c",
   "metadata": {},
   "outputs": [
    {
     "name": "stdout",
     "output_type": "stream",
     "text": [
      "14289 27 206\n"
     ]
    }
   ],
   "source": [
    "days = 1234567890 / 86400\n",
    "hours = 98765 / 3600\n",
    "mins = 12345 / 60\n",
    "\n",
    "print(f'{day:.0f} {hours:.0f} {mins:.0f}')"
   ]
  },
  {
   "attachments": {
    "11d0fd18-c5f3-4b60-8e53-fa426294819d.png": {
     "image/png": "[encoded data removed]"
    }
   },
   "cell_type": "markdown",
   "id": "9e2f5492-ad6a-4840-9fab-7e7b205171ea",
   "metadata": {},
   "source": [
    "### 도서 정보 출력\n",
    "![image.png](attachment:11d0fd18-c5f3-4b60-8e53-fa426294819d.png)"
   ]
  },
  {
   "cell_type": "code",
   "execution_count": 39,
   "id": "2fba07bd-1ad3-4a5c-8867-54a18d9dc7c7",
   "metadata": {},
   "outputs": [],
   "source": [
    "bkname = ''\n",
    "author = ''\n",
    "translator = ''\n",
    "publisher = ''\n",
    "pubdate = ''\n",
    "price = 0\n",
    "saleprice = 0\n",
    "discount = 0.0\n",
    "miliege = 0"
   ]
  },
  {
   "cell_type": "markdown",
   "id": "2ab60fbb-c382-40c1-82ab-15d3e7ae9191",
   "metadata": {},
   "source": [
    "### 잔돈계산"
   ]
  },
  {
   "cell_type": "code",
   "execution_count": 42,
   "id": "6d076920-3c30-461b-9095-3c35c12b9cb8",
   "metadata": {},
   "outputs": [
    {
     "name": "stdin",
     "output_type": "stream",
     "text": [
      "결제금액은? 12345\n",
      "지불금액은? 50000\n"
     ]
    }
   ],
   "source": [
    "bill = int(input('결제금액은?'))\n",
    "pay = int(input('지불금액은?'))"
   ]
  },
  {
   "cell_type": "code",
   "execution_count": 43,
   "id": "487a974c-d8b4-45a1-86db-9d0bf27ca3b5",
   "metadata": {},
   "outputs": [
    {
     "name": "stdout",
     "output_type": "stream",
     "text": [
      "37655\n"
     ]
    }
   ],
   "source": [
    "charge = pay - bill\n",
    "print(charge)"
   ]
  },
  {
   "cell_type": "code",
   "execution_count": 46,
   "id": "883d444e-8b55-4301-aa1b-3aa715158921",
   "metadata": {},
   "outputs": [
    {
     "name": "stdout",
     "output_type": "stream",
     "text": [
      "3\n"
     ]
    }
   ],
   "source": [
    "#w10000 = int(charge / 10000)\n",
    "w10000 = charge // 10000\n",
    "\n",
    "print(w10000)"
   ]
  },
  {
   "cell_type": "code",
   "execution_count": 52,
   "id": "d030fd7c-9c35-47dd-809e-fc19ccd40973",
   "metadata": {},
   "outputs": [
    {
     "name": "stdout",
     "output_type": "stream",
     "text": [
      "1\n"
     ]
    }
   ],
   "source": [
    "#w5000 = (charge - 10000 * w10000) // 5000\n",
    "w5000 = charge % 10000 // 5000\n",
    "\n",
    "print(w5000)"
   ]
  },
  {
   "cell_type": "code",
   "execution_count": 53,
   "id": "a99483c8-f9d1-4b8b-b3a0-1ebbdfd016f5",
   "metadata": {},
   "outputs": [
    {
     "name": "stdout",
     "output_type": "stream",
     "text": [
      "2\n"
     ]
    }
   ],
   "source": [
    "w1000 = charge % 5000 // 1000\n",
    "\n",
    "print(w1000)"
   ]
  },
  {
   "cell_type": "code",
   "execution_count": 55,
   "id": "6ec3ed9e-c054-44b7-aa50-2d9be87300fc",
   "metadata": {},
   "outputs": [
    {
     "name": "stdout",
     "output_type": "stream",
     "text": [
      "1\n"
     ]
    }
   ],
   "source": [
    "w500 = charge % 1000 // 500\n",
    "\n",
    "print(w500)"
   ]
  },
  {
   "cell_type": "code",
   "execution_count": 56,
   "id": "c081081f-4eba-409b-acda-ff0fe3d91c72",
   "metadata": {},
   "outputs": [
    {
     "name": "stdout",
     "output_type": "stream",
     "text": [
      "1\n"
     ]
    }
   ],
   "source": [
    "w100 = charge % 500 // 100\n",
    "\n",
    "print(w100)"
   ]
  },
  {
   "cell_type": "code",
   "execution_count": 59,
   "id": "c44e4d7e-3d5c-4925-b909-79e7d5bef449",
   "metadata": {},
   "outputs": [
    {
     "name": "stdout",
     "output_type": "stream",
     "text": [
      "\n",
      "잔돈 : 37,655원\n",
      "10000원권 : 3장\n",
      "5000원권 : 1장\n",
      "1000원권 : 2장\n",
      "500원권 : 1개\n",
      "100원권 : 1개\n",
      "\n"
     ]
    }
   ],
   "source": [
    "fmt = f'''\n",
    "잔돈 : {charge:,d}원\n",
    "10000원권 : {w10000}장\n",
    "5000원권 : {w5000}장\n",
    "1000원권 : {w1000}장\n",
    "500원권 : {w500}개\n",
    "100원권 : {w100}개\n",
    "'''\n",
    "\n",
    "print(fmt)"
   ]
  },
  {
   "cell_type": "code",
   "execution_count": null,
   "id": "4bc3e4df-2d77-4820-8509-dd537bdb3419",
   "metadata": {},
   "outputs": [],
   "source": []
  },
  {
   "cell_type": "code",
   "execution_count": null,
   "id": "8476ac8b-49bc-4c7d-bf81-ab897256434c",
   "metadata": {},
   "outputs": [],
   "source": []
  }
 ],
 "metadata": {
  "kernelspec": {
   "display_name": "anaconda-2022.05-py39",
   "language": "python",
   "name": "conda-env-anaconda-2022.05-py39-py"
  },
  "language_info": {
   "codemirror_mode": {
    "name": "ipython",
    "version": 3
   },
   "file_extension": ".py",
   "mimetype": "text/x-python",
   "name": "python",
   "nbconvert_exporter": "python",
   "pygments_lexer": "ipython3",
   "version": "3.9.12"
  }
 },
 "nbformat": 4,
 "nbformat_minor": 5
}
