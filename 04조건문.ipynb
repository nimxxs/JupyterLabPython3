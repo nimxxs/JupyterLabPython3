{
 "cells": [
  {
   "cell_type": "markdown",
   "id": "7539bb8c-a261-45ad-a1b4-1994735cfaa2",
   "metadata": {},
   "source": [
    "# 알고리즘 구조 : 순차, 반복, 선택\n",
    "* 알고리즘 : `문제나 과제를 해결하기 위한 처리 절차`를 하나하나 구체적인 순서에 따라 표현한 아이디어나 생각\n",
    "    + ex) 요리 레시피, 가전제품 사용설명서\n",
    "    + 일반적인 알고리즘은 3가지 흐름제어를 가지고 있음 - 순차, 선택, 반복"
   ]
  },
  {
   "cell_type": "markdown",
   "id": "53ab75e5-48ee-4a56-b5de-80059d8ff778",
   "metadata": {},
   "source": [
    "![알고리즘제어구조](./img/제어구조.png)"
   ]
  },
  {
   "cell_type": "markdown",
   "id": "fe4a1168-5e2f-4b18-b600-5d2d510563ca",
   "metadata": {},
   "source": [
    "![로봇청소기_청소알고리즘](./img/제어구조2.png)"
   ]
  },
  {
   "cell_type": "markdown",
   "id": "2e3d19df-d426-48dd-b245-75eb5edf30d6",
   "metadata": {},
   "source": [
    "### 순차\n",
    "* 시작부터 차례대로 진행하여 끝까지 명령이 실행되는 구조"
   ]
  },
  {
   "cell_type": "markdown",
   "id": "0689af7a-4113-41fa-915c-a300c9bc3734",
   "metadata": {},
   "source": [
    "### 선택\n",
    "* 조건에 따라 실행흐름이 달라지는 구조"
   ]
  },
  {
   "cell_type": "markdown",
   "id": "ae03e445-0feb-4075-b774-109d457a6041",
   "metadata": {},
   "source": [
    "### 반복\n",
    "* 특정 명령을 정해진 횟수 또는 지정한 조건을 만족할 때 까지 반복적으로 실행하는 구조"
   ]
  },
  {
   "cell_type": "markdown",
   "id": "fc490f74-b61f-493c-bde2-d17994a60d3d",
   "metadata": {},
   "source": [
    "### 조건식 작성하기"
   ]
  },
  {
   "cell_type": "code",
   "execution_count": 3,
   "id": "632f2d1e-9f03-46f9-9c80-5c53c6b76afe",
   "metadata": {},
   "outputs": [
    {
     "data": {
      "text/plain": [
       "True"
      ]
     },
     "execution_count": 3,
     "metadata": {},
     "output_type": "execute_result"
    }
   ],
   "source": [
    "# 나이가 18세 이상 25세 이하\n",
    "age = 21\n",
    "\n",
    "age >= 18 and age <= 25"
   ]
  },
  {
   "cell_type": "code",
   "execution_count": 10,
   "id": "67b90a94-bc87-4a1e-8acf-5d0a26b6412f",
   "metadata": {},
   "outputs": [
    {
     "data": {
      "text/plain": [
       "True"
      ]
     },
     "execution_count": 10,
     "metadata": {},
     "output_type": "execute_result"
    }
   ],
   "source": [
    "# 성별이 남자이면서 나이가 18세 이상이고 25세 이하\n",
    "gender = '남자'\n",
    "\n",
    "(gender == '남자') and (age >=18 and age <= 25)"
   ]
  },
  {
   "cell_type": "code",
   "execution_count": 17,
   "id": "1c34b117-3636-40d9-9114-6768adc9a0ea",
   "metadata": {},
   "outputs": [
    {
     "data": {
      "text/plain": [
       "False"
      ]
     },
     "execution_count": 17,
     "metadata": {},
     "output_type": "execute_result"
    }
   ],
   "source": [
    "# 국어, 영어, 수학 성적이 모두 70점 이상이거나, \n",
    "# 3과목 성적의 합이 240점 이상\n",
    "\n",
    "kor = 70\n",
    "eng = 60\n",
    "mat = 60\n",
    "\n",
    "total = kor + eng + mat\n",
    "\n",
    "(kor >= 70 and eng >= 70 and mat >= 70) or (total >= 240)"
   ]
  },
  {
   "cell_type": "code",
   "execution_count": 32,
   "id": "63ccd60a-40e2-4059-90ab-1f88b2cb5287",
   "metadata": {},
   "outputs": [
    {
     "data": {
      "text/plain": [
       "True"
      ]
     },
     "execution_count": 32,
     "metadata": {},
     "output_type": "execute_result"
    }
   ],
   "source": [
    "# 두 사람의 나이의 합이 40대(40~49살)\n",
    "\n",
    "age1 = 20\n",
    "age2 = 20\n",
    "\n",
    "(age1 + age2) >= 40 and (age1 + age2) <= 49"
   ]
  },
  {
   "cell_type": "markdown",
   "id": "34dbcb42-12f4-4045-b0ea-a7234bf87393",
   "metadata": {},
   "source": [
    "### 조건문 : if\n",
    "* 조건에 따라 특정 문장을 수행하도록 고안된 문장"
   ]
  },
  {
   "cell_type": "code",
   "execution_count": 37,
   "id": "39f7a848-e34a-4dfe-917b-19a34dab4cfc",
   "metadata": {},
   "outputs": [
    {
     "name": "stdin",
     "output_type": "stream",
     "text": [
      "점수는?  90\n"
     ]
    },
    {
     "name": "stdout",
     "output_type": "stream",
     "text": [
      "축하합니다!!\n",
      "좋은 성격이군요!\n"
     ]
    }
   ],
   "source": [
    "# 성적을 하나 입력 받아 점수가 85점 이상이면 '축하합니다'라고 출력\n",
    "\n",
    "jumsu = int(input('점수는? '))\n",
    "\n",
    "if (jumsu >= 85):\n",
    "    print('축하합니다!!')\n",
    "    print('좋은 성격이군요!')"
   ]
  },
  {
   "cell_type": "code",
   "execution_count": 50,
   "id": "23a9170c-18f4-412d-b33e-b4c8d9ee8cc5",
   "metadata": {},
   "outputs": [
    {
     "name": "stdin",
     "output_type": "stream",
     "text": [
      "Enter your score :  4.6\n"
     ]
    },
    {
     "name": "stdout",
     "output_type": "stream",
     "text": [
      "당신의 평점은 : 4.6\n",
      "해외 연수 기회 부여\n"
     ]
    }
   ],
   "source": [
    "# 사용자로부터 평점을 입력받아 평점을 출력하고,\n",
    "# 입력된 평점이 4.2 이상이면 \"해외 연수 기회 부여\"를 출력\n",
    "\n",
    "score = float(input('Enter your score : '))\n",
    "\n",
    "print(f'당신의 평점은 : {score}')\n",
    "if (score >= 4.2):\n",
    "    print('해외 연수 기회 부여')"
   ]
  },
  {
   "cell_type": "code",
   "execution_count": 54,
   "id": "dc6295d6-1e14-48ca-8ae8-6823276b4c26",
   "metadata": {},
   "outputs": [
    {
     "name": "stdin",
     "output_type": "stream",
     "text": [
      "국어 점수 :  95\n",
      "영어 점수 :  95\n",
      "수학 점수 :  95\n"
     ]
    },
    {
     "name": "stdout",
     "output_type": "stream",
     "text": [
      "당신의 평균은 95.0점입니다.\n",
      "축하합니다. A+입니다.\n",
      "감사합니다.\n"
     ]
    }
   ],
   "source": [
    "# 세 과목 점수를 입력받아 평균이 95점 이상이면 '축하합니다. A+입니다.'라고 출력\n",
    "\n",
    "kor = int(input('국어 점수 : '))\n",
    "eng = int(input('영어 점수 : '))\n",
    "mat = int(input('수학 점수 : '))\n",
    "\n",
    "avg = (kor + eng + mat) / 3\n",
    "print(f'당신의 평균은 {avg:.1f}점입니다.')\n",
    "\n",
    "if (avg >= 95):\n",
    "    print('축하합니다. A+입니다.')\n",
    "    \n",
    "print('감사합니다.')"
   ]
  },
  {
   "cell_type": "markdown",
   "id": "6b58d180-9ddf-47c6-a6af-5d4715701c0f",
   "metadata": {},
   "source": [
    "### 다중 if문\n",
    "* 조건문의 조건식이 참일 때와 거짓일 때에 따라 실행할 명령어를 지정"
   ]
  },
  {
   "cell_type": "code",
   "execution_count": 59,
   "id": "4d4332d9-e3c1-42fe-a52b-545490f8d112",
   "metadata": {},
   "outputs": [
    {
     "name": "stdin",
     "output_type": "stream",
     "text": [
      "당신의 나이는? 27\n"
     ]
    },
    {
     "name": "stdout",
     "output_type": "stream",
     "text": [
      "일반 승차권 발급\n",
      "자동 발매기를 이용해주셔서 감사합니다.\n"
     ]
    }
   ],
   "source": [
    "# 65세 이상이면 '지하철 경로우대 승차권 발급'\n",
    "# 그렇지 않으면 '일반 승차권 발급'\n",
    "# 나이와 상관없이 '자동 발매기를 이용해주셔서 감사합니다.'\n",
    "\n",
    "age = int(input('당신의 나이는?'))\n",
    "\n",
    "if (age >= 65) :\n",
    "    print('지하철 경로우대 승차권 발급')\n",
    "else :\n",
    "    print('일반 승차권 발급')\n",
    "    \n",
    "print('자동 발매기를 이용해주셔서 감사합니다.')"
   ]
  },
  {
   "cell_type": "code",
   "execution_count": 64,
   "id": "3f4e08a9-8195-4023-acf4-82c9d19c745c",
   "metadata": {},
   "outputs": [
    {
     "name": "stdin",
     "output_type": "stream",
     "text": [
      "첫 번째 숫자는 ? 56\n",
      "두 번째 숫자는 ? 50\n"
     ]
    },
    {
     "name": "stdout",
     "output_type": "stream",
     "text": [
      "두 수 중에 큰 수는 56이고 작은 수는 50입니다.\n"
     ]
    }
   ],
   "source": [
    "# 두 개의 서로 다른 숫자를 입력받아 큰 수를 출력\n",
    "\n",
    "num1 = int(input('첫 번째 숫자는 ?'))\n",
    "num2 = int(input('두 번째 숫자는 ?'))\n",
    "           \n",
    "if (num1 > num2):\n",
    "    print(f'두 수 중에 큰 수는 {num1}이고 작은 수는 {num2}입니다.')\n",
    "else:\n",
    "    print(f'두 수 중에 큰 수는 {num2}이고 작은 수는 {num1}입니다.')"
   ]
  },
  {
   "cell_type": "code",
   "execution_count": 66,
   "id": "3bff7234-2845-4b66-b653-709857c511e3",
   "metadata": {},
   "outputs": [
    {
     "name": "stdin",
     "output_type": "stream",
     "text": [
      "첫 번째 숫자는 ? 50\n",
      "두 번째 숫자는 ? 40\n"
     ]
    },
    {
     "name": "stdout",
     "output_type": "stream",
     "text": [
      "두 수 중에 큰 수는 50이고 작은 수는 40입니다.\n"
     ]
    }
   ],
   "source": [
    "num1 = int(input('첫 번째 숫자는 ?'))\n",
    "num2 = int(input('두 번째 숫자는 ?'))\n",
    "           \n",
    "if (num1 > num2):\n",
    "    max, min = num1, num2\n",
    "else:\n",
    "    max, min = num2, num1\n",
    "    \n",
    "print(f'두 수 중에 큰 수는 {max}이고 작은 수는 {min}입니다.')"
   ]
  },
  {
   "cell_type": "code",
   "execution_count": 67,
   "id": "19fcfb34-9c20-4b83-97cd-8a7850c1ff25",
   "metadata": {},
   "outputs": [
    {
     "name": "stdin",
     "output_type": "stream",
     "text": [
      "첫 번째 숫자는 ? 60\n",
      "두 번째 숫자는 ? 80\n"
     ]
    },
    {
     "name": "stdout",
     "output_type": "stream",
     "text": [
      "두 수 중에 큰 수는 80이고 작은 수는 60입니다.\n"
     ]
    }
   ],
   "source": [
    "num1 = int(input('첫 번째 숫자는 ?'))\n",
    "num2 = int(input('두 번째 숫자는 ?'))\n",
    "\n",
    "max, min = num2, num1\n",
    "\n",
    "if (num1 > num2):\n",
    "    max, min = num1, num2\n",
    "    \n",
    "print(f'두 수 중에 큰 수는 {max}이고 작은 수는 {min}입니다.')"
   ]
  },
  {
   "cell_type": "code",
   "execution_count": 83,
   "id": "6b440a00-0a8c-4feb-9571-5e207441f092",
   "metadata": {},
   "outputs": [
    {
     "name": "stdin",
     "output_type": "stream",
     "text": [
      "첫 번째 숫자는 ? 7\n",
      "두 번째 숫자는 ? 7\n"
     ]
    },
    {
     "name": "stdout",
     "output_type": "stream",
     "text": [
      "두 숫자가 모두 홀수입니다.\n"
     ]
    }
   ],
   "source": [
    "# 두 개의 숫자\n",
    "# 모두 짝수이면 짝수\n",
    "# 모두 홀수이면 홀수\n",
    "# 둘 다 아니면 짝수와 홀수가 섞여있다\n",
    "\n",
    "msg = ''\n",
    "\n",
    "num1 = int(input('첫 번째 숫자는 ?'))\n",
    "num2 = int(input('두 번째 숫자는 ?'))\n",
    "\n",
    "if (num1 % 2 == 0 and num2 % 2 == 0):\n",
    "    msg = '두 숫자가 모두 짝수입니다.'\n",
    "elif (num1 % 2 != 0 and num2 % 2 != 0):\n",
    "    msg = '두 숫자가 모두 홀수입니다.'\n",
    "else:\n",
    "    msg = '짝수와 홀수가 섞여 있습니다.'\n",
    "    \n",
    "print(msg)"
   ]
  },
  {
   "cell_type": "code",
   "execution_count": 86,
   "id": "1143b59a-5f09-4d85-a3bf-6dff4070720f",
   "metadata": {},
   "outputs": [
    {
     "name": "stdin",
     "output_type": "stream",
     "text": [
      "점수를 입력하세요 :  98\n"
     ]
    },
    {
     "name": "stdout",
     "output_type": "stream",
     "text": [
      "A학점입니다.\n"
     ]
    }
   ],
   "source": [
    "# 한 과목의 점수 입력\n",
    "# 점수에 따라 등급을 부여 (A~F)\n",
    "\n",
    "score = int(input('점수를 입력하세요 : '))\n",
    "\n",
    "grade = ''\n",
    "\n",
    "if (90 <= score <= 100):\n",
    "    grade = 'A학점입니다.'\n",
    "elif (80 <= score <= 89):\n",
    "    grade = 'B학점입니다.'\n",
    "elif (70 <= score <= 79):\n",
    "    grade = 'C학점입니다.'\n",
    "elif (60 <= score <= 69):\n",
    "    grade = 'D학점입니다.'\n",
    "else:\n",
    "    grade = 'F학점입니다.'\n",
    "    \n",
    "print(grade)"
   ]
  },
  {
   "cell_type": "markdown",
   "id": "52f9b3d8-bb76-467c-837b-570bad782bd6",
   "metadata": {},
   "source": [
    "### 삼항연산자 conditional expression\n",
    "* x = `true_val` if condition else `false_val`\n",
    "* java : x = (condition) ? true_val : false_val"
   ]
  },
  {
   "cell_type": "code",
   "execution_count": 93,
   "id": "a8af120a-6938-4a15-82fa-80edef3db426",
   "metadata": {},
   "outputs": [
    {
     "name": "stdin",
     "output_type": "stream",
     "text": [
      "나이를 입력하세요 :  27\n"
     ]
    },
    {
     "name": "stdout",
     "output_type": "stream",
     "text": [
      "일반 승차권 발급\n"
     ]
    }
   ],
   "source": [
    "# 65세 이상이면 '지하철 경로우대 승차권 발급'\n",
    "# 그렇지 않으면 '일반 승차권 발급'\n",
    "# 나이와 상관없이 '자동 발매기를 이용해주셔서 감사합니다.'\n",
    "\n",
    "age = int(input('나이를 입력하세요 : '))\n",
    "\n",
    "message = '지하철 경로우대 승차권 발급' if (age >= 65) else '일반 승차권 발급'\n",
    "\n",
    "print(message)"
   ]
  },
  {
   "attachments": {
    "e8ec1d4a-381b-4ca4-814b-268e10a8add6.png": {
     "image/png": "[encoded data removed]"
    }
   },
   "cell_type": "markdown",
   "id": "8f16b8bf-9947-4e6b-8464-9c1a07301782",
   "metadata": {},
   "source": [
    "### 문자열 끼리 비교\n",
    "* 문자열 비교시 각 문자의 ASCII 값을 기준으로 비교함 <br/>\n",
    "![ASCII](attachment:e8ec1d4a-381b-4ca4-814b-268e10a8add6.png)"
   ]
  },
  {
   "cell_type": "code",
   "execution_count": 98,
   "id": "ff3d37e8-de80-450e-ba7f-c6f859691bf6",
   "metadata": {
    "tags": []
   },
   "outputs": [
    {
     "name": "stdout",
     "output_type": "stream",
     "text": [
      "True\n",
      "True\n",
      "False\n",
      "True\n",
      "False\n",
      "False\n",
      "True\n"
     ]
    }
   ],
   "source": [
    "print('a' > 'B')\n",
    "print('*' < 'k')\n",
    "print('김' < '강')\n",
    "print('han' < 'hans')\n",
    "print('cskim' < 'CSKIM')\n",
    "print('John' > 'Joho')\n",
    "print('김충식' > '김충석')"
   ]
  },
  {
   "cell_type": "markdown",
   "id": "515c1ce9-1054-4124-b0f2-33bc4a8a2795",
   "metadata": {},
   "source": [
    "### 실습문제\n",
    "`성적처리프로그램 v1` <br />\n",
    "* 입력값 : 이름, 국어, 영어, 수학\n",
    "* 출력값 : 이름, 국어, 영어, 수학 점수, 총점, 평균, 학점(수우미양가)\n",
    "* 평균은 소수점 둘째자리까지"
   ]
  },
  {
   "cell_type": "code",
   "execution_count": 122,
   "id": "098fd8f1-638e-4e93-adde-f64c66cf103a",
   "metadata": {
    "tags": []
   },
   "outputs": [
    {
     "name": "stdin",
     "output_type": "stream",
     "text": [
      "이름 :  수민\n",
      "국어 점수는 :  98\n",
      "영어 점수는 :  98\n",
      "수학 점수는 :  98\n"
     ]
    }
   ],
   "source": [
    "name = input('이름 : ')\n",
    "kor = int(input('국어 점수는 : '))\n",
    "eng = int(input('영어 점수는 : '))\n",
    "mat = int(input('수학 점수는 : '))\n",
    "\n",
    "total = kor + eng + mat  # input 타입만 쓰면 +는 문자열이 붙어지기만 함 ex)101010\n",
    "avg = total / 3"
   ]
  },
  {
   "cell_type": "code",
   "execution_count": 118,
   "id": "275eece3-68f7-4b5f-9604-8ab96bf9c981",
   "metadata": {},
   "outputs": [],
   "source": [
    "# grd = ''\n",
    "\n",
    "# if (90 <= avg <= 100): grd = '수'\n",
    "# elif (80 <= avg <= 89): grd = '우'\n",
    "# elif (70 <= avg <= 79): grd = '미'\n",
    "# elif (60 <= avg <= 69): grd = '양'\n",
    "# else: grd = '가'"
   ]
  },
  {
   "cell_type": "code",
   "execution_count": 123,
   "id": "14382c10-dbc0-4b3d-aebd-a18a6d1fa4eb",
   "metadata": {},
   "outputs": [],
   "source": [
    "grd = '수' if (90 <= avg <= 100) else \\\n",
    "     ('우' if (80 <= avg <= 89) else \\\n",
    "     ('미' if (70 <= avg <= 79) else \\\n",
    "     ('양' if (60 <= avg <= 69) else '가')))"
   ]
  },
  {
   "cell_type": "code",
   "execution_count": 124,
   "id": "6b2f242e-c915-4d3f-abb2-5bb9f3cbc4c3",
   "metadata": {
    "tags": []
   },
   "outputs": [
    {
     "name": "stdout",
     "output_type": "stream",
     "text": [
      "이름 : 수민, 국어 : 98, 영어 : 98, 수학 : 98\n",
      "총점 : 294, 평균 : 98.00, 학점 : 수 \n"
     ]
    }
   ],
   "source": [
    "fmt = f'''이름 : {name}, 국어 : {kor}, 영어 : {eng}, 수학 : {mat}\n",
    "총점 : {total}, 평균 : {avg:.2f}, 학점 : {grd} '''\n",
    "\n",
    "    \n",
    "print(fmt)"
   ]
  }
 ],
 "metadata": {
  "kernelspec": {
   "display_name": "anaconda-2022.05-py39",
   "language": "python",
   "name": "conda-env-anaconda-2022.05-py39-py"
  },
  "language_info": {
   "codemirror_mode": {
    "name": "ipython",
    "version": 3
   },
   "file_extension": ".py",
   "mimetype": "text/x-python",
   "name": "python",
   "nbconvert_exporter": "python",
   "pygments_lexer": "ipython3",
   "version": "3.9.12"
  }
 },
 "nbformat": 4,
 "nbformat_minor": 5
}
