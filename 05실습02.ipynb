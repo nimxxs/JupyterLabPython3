{
 "cells": [
  {
   "cell_type": "markdown",
   "id": "68b787b2-1b6f-4451-98d7-f1e2b5f033bb",
   "metadata": {},
   "source": [
    "# 실습하기 02"
   ]
  },
  {
   "cell_type": "markdown",
   "id": "cc7ee2d3-fe1a-48c0-b2e8-754dd12c6235",
   "metadata": {},
   "source": [
    "### 실습문제\n",
    "`성적처리프로그램 v1` <br />\n",
    "* 입력값 : 이름, 국어, 영어, 수학\n",
    "* 출력값 : 이름, 국어, 영어, 수학 점수, 총점, 평균, 학점(수우미양가)\n",
    "* 평균은 소수점 둘째자리까지"
   ]
  },
  {
   "cell_type": "code",
   "execution_count": 122,
   "id": "1db36492-1db5-416e-89cb-443675f49971",
   "metadata": {
    "tags": []
   },
   "outputs": [
    {
     "name": "stdin",
     "output_type": "stream",
     "text": [
      "이름 :  수민\n",
      "국어 점수는 :  98\n",
      "영어 점수는 :  98\n",
      "수학 점수는 :  98\n"
     ]
    }
   ],
   "source": [
    "name = input('이름 : ')\n",
    "kor = int(input('국어 점수는 : '))\n",
    "eng = int(input('영어 점수는 : '))\n",
    "mat = int(input('수학 점수는 : '))\n",
    "\n",
    "total = kor + eng + mat  # input 타입만 쓰면 +는 문자열이 붙어지기만 함 ex)101010\n",
    "avg = total / 3"
   ]
  },
  {
   "cell_type": "code",
   "execution_count": 118,
   "id": "8907f1cd-ede6-42d6-9c68-ddbaff5c4882",
   "metadata": {},
   "outputs": [],
   "source": [
    "# grd = ''\n",
    "\n",
    "# if (90 <= avg <= 100): grd = '수'\n",
    "# elif (80 <= avg <= 89): grd = '우'\n",
    "# elif (70 <= avg <= 79): grd = '미'\n",
    "# elif (60 <= avg <= 69): grd = '양'\n",
    "# else: grd = '가'"
   ]
  },
  {
   "cell_type": "code",
   "execution_count": 123,
   "id": "9851a7cb-f09d-43f3-a3ab-4b5b673f84a1",
   "metadata": {},
   "outputs": [],
   "source": [
    "grd = '수' if (90 <= avg <= 100) else \\\n",
    "     ('우' if (80 <= avg <= 89) else \\\n",
    "     ('미' if (70 <= avg <= 79) else \\\n",
    "     ('양' if (60 <= avg <= 69) else '가')))"
   ]
  },
  {
   "cell_type": "code",
   "execution_count": 124,
   "id": "7144a633-0612-4a68-8a2e-784655743ebe",
   "metadata": {
    "tags": []
   },
   "outputs": [
    {
     "name": "stdout",
     "output_type": "stream",
     "text": [
      "이름 : 수민, 국어 : 98, 영어 : 98, 수학 : 98\n",
      "총점 : 294, 평균 : 98.00, 학점 : 수 \n"
     ]
    }
   ],
   "source": [
    "fmt = f'''이름 : {name}, 국어 : {kor}, 영어 : {eng}, 수학 : {mat}\n",
    "총점 : {total}, 평균 : {avg:.2f}, 학점 : {grd} '''\n",
    "\n",
    "    \n",
    "print(fmt)"
   ]
  },
  {
   "cell_type": "markdown",
   "id": "118ddb26-a3d4-43c0-91ab-bb1d1098e71b",
   "metadata": {},
   "source": [
    "### 실습문제\n",
    "`성적처리프로그램 v2` <br />\n",
    "* 입력값 : 이름, 국어, 영어, 수학\n",
    "* 출력값 : 이름, 국어, 영어, 수학 점수, 총점, 평균, 학점(수우미양가)\n",
    "* 평균은 소수점 둘째자리까지"
   ]
  },
  {
   "cell_type": "code",
   "execution_count": 122,
   "id": "a72b4cc3-9f45-46f7-bf33-0f53fe71735e",
   "metadata": {
    "tags": []
   },
   "outputs": [
    {
     "name": "stdin",
     "output_type": "stream",
     "text": [
      "이름 :  수민\n",
      "국어 점수는 :  98\n",
      "영어 점수는 :  98\n",
      "수학 점수는 :  98\n"
     ]
    }
   ],
   "source": [
    "name = input('이름 : ')\n",
    "kor = int(input('국어 점수는 : '))\n",
    "eng = int(input('영어 점수는 : '))\n",
    "mat = int(input('수학 점수는 : '))\n",
    "\n",
    "total = kor + eng + mat  # input 타입만 쓰면 +는 문자열이 붙어지기만 함 ex)101010\n",
    "avg = total / 3"
   ]
  },
  {
   "cell_type": "code",
   "execution_count": 118,
   "id": "40a7867c-3466-4d3a-9c44-954635b56faa",
   "metadata": {},
   "outputs": [],
   "source": [
    "# grd = ''\n",
    "\n",
    "# if (90 <= avg <= 100): grd = '수'\n",
    "# elif (80 <= avg <= 89): grd = '우'\n",
    "# elif (70 <= avg <= 79): grd = '미'\n",
    "# elif (60 <= avg <= 69): grd = '양'\n",
    "# else: grd = '가'"
   ]
  },
  {
   "cell_type": "code",
   "execution_count": 123,
   "id": "390c0904-8c38-42a4-a195-55aacf7f6235",
   "metadata": {},
   "outputs": [],
   "source": [
    "grd = '수' if (90 <= avg <= 100) else \\\n",
    "     ('우' if (80 <= avg <= 89) else \\\n",
    "     ('미' if (70 <= avg <= 79) else \\\n",
    "     ('양' if (60 <= avg <= 69) else '가')))"
   ]
  },
  {
   "cell_type": "code",
   "execution_count": 124,
   "id": "ba834f78-d188-4627-a6b7-3aab3be15fd2",
   "metadata": {
    "tags": []
   },
   "outputs": [
    {
     "name": "stdout",
     "output_type": "stream",
     "text": [
      "이름 : 수민, 국어 : 98, 영어 : 98, 수학 : 98\n",
      "총점 : 294, 평균 : 98.00, 학점 : 수 \n"
     ]
    }
   ],
   "source": [
    "fmt = f'''이름 : {name}, 국어 : {kor}, 영어 : {eng}, 수학 : {mat}\n",
    "총점 : {total}, 평균 : {avg:.2f}, 학점 : {grd} '''\n",
    "\n",
    "    \n",
    "print(fmt)"
   ]
  },
  {
   "cell_type": "code",
   "execution_count": 37,
   "id": "9f2893b2-6b31-45d0-a0e6-74b8b9f2a250",
   "metadata": {},
   "outputs": [
    {
     "name": "stdin",
     "output_type": "stream",
     "text": [
      "결혼은? (기혼:1, 미혼:0) 0\n",
      "연봉은?  3500\n"
     ]
    },
    {
     "name": "stdout",
     "output_type": "stream",
     "text": [
      "귀하는 미혼이고, 연봉이 3500일 때, 세금은 350.0입니다.\n"
     ]
    }
   ],
   "source": [
    "# 사용자가 연봉과 결혼 여부를 입력하면\n",
    "# 다음의 세금율에 의해 납부해야 할 세금을 계산\n",
    "    # 가. 미혼인 경우 : 연봉 3000미만 - 10%\n",
    "    #                  연봉 3000이상 - 10%\n",
    "    # 나. 기혼인 경우 : 연봉 6000미만 - 15%\n",
    "    #                  연봉 6000이상 - 35%\n",
    "    \n",
    "isMerry = input('결혼은? (기혼:1, 미혼:0)')\n",
    "salary = int(input('연봉은? '))\n",
    "tax = 0\n",
    "\n",
    "if (isMerry == '1'):\n",
    "    tax = (salary * 0.35) if (salary >= 6000) else (salary * 0.15)\n",
    "elif (isMerry == '0'):\n",
    "    tax = (salary * 0.1) if (salary >= 3000) else (salary * 0.1)\n",
    "else:\n",
    "    print('잘못입력하셨습니다!')\n",
    "    \n",
    "merry = '기혼' if isMerry == '1' else '미혼'\n",
    "result = f'귀하는 {merry}이고, 연봉이 {salary}일 때, 세금은 {tax:.1f}입니다.'\n",
    "print(result)"
   ]
  },
  {
   "cell_type": "code",
   "execution_count": 43,
   "id": "4cc23299-ae79-431f-868e-a03cc02fd394",
   "metadata": {},
   "outputs": [
    {
     "name": "stdin",
     "output_type": "stream",
     "text": [
      "현재 연도를 입력하세요 2020\n"
     ]
    },
    {
     "name": "stdout",
     "output_type": "stream",
     "text": [
      "2020년은 윤년입니다.\n"
     ]
    }
   ],
   "source": [
    "# 현재 연도를 입력하면 윤년 여부를 출력\n",
    "    # 가. 현재 연도가 4로 나눠 떨어지지만, 100으로는 나눠 떨어지지 않음\n",
    "    # 나. 현재 연도가 400으로 나눠 떨어짐\n",
    "    \n",
    "year = int(input('현재 연도를 입력하세요'))\n",
    "\n",
    "isLeapYear = '평년'\n",
    "if (year % 4 == 0) and (year % 100 != 0) or (year % 400 == 0):\n",
    "    isLeapYear = '윤년'\n",
    "    \n",
    "print(f'{year}년은 {isLeapYear}입니다.')"
   ]
  },
  {
   "cell_type": "code",
   "execution_count": 55,
   "id": "4c29ac69-d929-48d5-8be0-f42c7c06b3ee",
   "metadata": {},
   "outputs": [
    {
     "name": "stdin",
     "output_type": "stream",
     "text": [
      "출력할 구구단의 단은?  8\n"
     ]
    },
    {
     "name": "stdout",
     "output_type": "stream",
     "text": [
      "\n",
      "    8 x 1 = 8\n",
      "    8 x 2 = 16\n",
      "    8 x 3 = 24\n",
      "    8 x 4 = 32\n",
      "    8 x 5 = 40\n",
      "    8 x 6 = 48\n",
      "    8 x 7 = 56\n",
      "    8 x 8 = 64\n",
      "    8 x 9 = 72\n",
      "    \n"
     ]
    }
   ],
   "source": [
    "# 숫자(1~9) 중 하나를 입력 받아 구구단 출력\n",
    "# 단, 이외의 숫자나 문자를 입력 받으면 '잘못 입력하셨습니다!!'\n",
    "\n",
    "dan = int(input('출력할 구구단의 단은? '))\n",
    "\n",
    "if (1 <= dan <= 9):\n",
    "    result = f'''\n",
    "    {dan} x 1 = {dan * 1}\n",
    "    {dan} x 2 = {dan * 2}\n",
    "    {dan} x 3 = {dan * 3}\n",
    "    {dan} x 4 = {dan * 4}\n",
    "    {dan} x 5 = {dan * 5}\n",
    "    {dan} x 6 = {dan * 6}\n",
    "    {dan} x 7 = {dan * 7}\n",
    "    {dan} x 8 = {dan * 8}\n",
    "    {dan} x 9 = {dan * 9}\n",
    "    '''\n",
    "    print(result)\n",
    "else:\n",
    "    print('잘못 입력하셨습니다!!')"
   ]
  },
  {
   "cell_type": "code",
   "execution_count": 67,
   "id": "cfcd2fe7-f8db-4d39-a82d-da11984bffd2",
   "metadata": {},
   "outputs": [
    {
     "name": "stdin",
     "output_type": "stream",
     "text": [
      "문자 하나 입력하세요 :  T\n"
     ]
    },
    {
     "name": "stdout",
     "output_type": "stream",
     "text": [
      "T (84) -> t (116)\n"
     ]
    }
   ],
   "source": [
    "# 소문자를 입력 받아 대문자로 출력\n",
    "# 단, 소문자 이외의 숫자나 문자를 입력 받으면 '잘못 입력하셨습니다!!'\n",
    "    # 가. 문자 입력 시 System.in.read() 사용\n",
    "    # 나. A의 유니코드 값 : 65, a의 유니코드 값 : 97\n",
    "# chr : 유니코드값에 해당하는 문자 출력\n",
    "# ord : 문자에 해당하는 유니코드값 출력\n",
    "\n",
    "char = input('문자 하나 입력하세요 : ')\n",
    "\n",
    "if (65 <= ord(char) <= 90): # 입력한 문자가 대문자인가?\n",
    "    lower = ord(char) + 32  # 문자의 코드값을 알아내서 32를 더함\n",
    "    print(f'{char} ({ord(char)}) -> {chr(lower)} ({lower})')\n",
    "    \n",
    "elif (97 <= ord(char) <= 122): # 입력한 문자가 소문자인가?\n",
    "    upper = ord(char) - 32  # 문자의 코드값을 알아내서 32를 뺴줌\n",
    "    print(f'{char} ({ord(char)}) -> {chr(upper)} ({upper})')\n",
    "    \n",
    "else: # 입력한 문자가 대문자/소문자가 아니라면?\n",
    "    print('잘못입력하셨습니다')"
   ]
  }
 ],
 "metadata": {
  "kernelspec": {
   "display_name": "Python 3 (ipykernel)",
   "language": "python",
   "name": "python3"
  },
  "language_info": {
   "codemirror_mode": {
    "name": "ipython",
    "version": 3
   },
   "file_extension": ".py",
   "mimetype": "text/x-python",
   "name": "python",
   "nbconvert_exporter": "python",
   "pygments_lexer": "ipython3",
   "version": "3.11.4"
  }
 },
 "nbformat": 4,
 "nbformat_minor": 5
}
