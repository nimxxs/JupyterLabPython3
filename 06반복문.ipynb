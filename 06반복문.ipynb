{
 "cells": [
  {
   "cell_type": "markdown",
   "id": "ba454e96-d2fa-4d22-9888-5edf61e96601",
   "metadata": {},
   "source": [
    "### 반복문"
   ]
  },
  {
   "cell_type": "markdown",
   "id": "95da53c4-aa86-44b9-8854-9b8d2dfcf766",
   "metadata": {},
   "source": [
    "### while\n",
    "* 조건이 참일 동안 지정한 코드들을 반복실행하는 구조\n",
    "* 단, 조건이 처음부터 거짓이라면 반복문이 실행되지 않을 수도 있음"
   ]
  },
  {
   "cell_type": "code",
   "execution_count": null,
   "id": "7787d2a1-d440-4b1e-8d1b-8760ca207acf",
   "metadata": {},
   "outputs": [],
   "source": [
    "# 1 ~ 10까지 정수 출력 1\n",
    "print(1)\n",
    "print(2)\n",
    "print(3)\n",
    "print(4)\n",
    "print(5)\n",
    "print(6)\n",
    "print(7)\n",
    "print(8)\n",
    "print(9)\n",
    "print(10)"
   ]
  },
  {
   "cell_type": "code",
   "execution_count": null,
   "id": "906f6545-4d3a-426d-9955-c5d96d815f30",
   "metadata": {},
   "outputs": [],
   "source": [
    "# 1 ~ 10까지 정수 출력 2 (while문)\n",
    "i = 1            # 초기식\n",
    "\n",
    "while(i <= 10): # 조건식\n",
    "    print(i)\n",
    "    i = i + 1   # 증감식"
   ]
  },
  {
   "cell_type": "code",
   "execution_count": null,
   "id": "1231fcbd-2d49-46b3-beef-f0714beffd8d",
   "metadata": {
    "tags": []
   },
   "outputs": [],
   "source": [
    "# 1부터 시작해서 입력한 숫자까지의 모든 정수의 합\n",
    "\n",
    "num = int(input('숫자를 입력하세요 : '))\n",
    "i = 1\n",
    "sum = 0\n",
    "\n",
    "while(i <= num):\n",
    "    sum = sum + i\n",
    "    i = i + 1\n",
    "\n",
    "print(f'1부터 {num}까지의 합은 : {sum}')"
   ]
  },
  {
   "cell_type": "code",
   "execution_count": null,
   "id": "fa2b5259-4d2a-426a-bae9-fe7293ccdb92",
   "metadata": {},
   "outputs": [],
   "source": [
    "# 1부터 시작해서 입력한 숫자까지의 모든 정수의 합\n",
    "# 가우스 덧셈 공식\n"
   ]
  },
  {
   "cell_type": "code",
   "execution_count": null,
   "id": "4180fd6a-8d3b-4bac-9879-c41c571ce61f",
   "metadata": {},
   "outputs": [],
   "source": [
    "# 두 개의 숫자를 입력 받아\n",
    "# 두 수 사이의 모든 정수의 합\n",
    "\n",
    "num1 = int(input('첫 번째 숫자 입력 : '))\n",
    "num2 = int(input('두 번째 숫자 입력 : '))\n",
    "\n",
    "i = num2 if num1 > num2 else num1\n",
    "j = num1 if num1 > num2 else num2\n",
    "sum = 0\n",
    "\n",
    "result = f'{i}부터 {j}까지의 합은 : '\n",
    "\n",
    "while(i <= j):\n",
    "    sum = sum + i\n",
    "    i = i + 1\n",
    "    \n",
    "print(f'{result}{sum}')"
   ]
  },
  {
   "cell_type": "code",
   "execution_count": null,
   "id": "6511bdbb-1a04-4440-a4bd-cc4af22f23e1",
   "metadata": {},
   "outputs": [],
   "source": [
    "# 1부터 사용자로부터 입력받은 숫자사이 짝수의 합을 계산\n",
    "\n",
    "num = int(input('숫자를 입력하세요 : '))\n",
    "\n",
    "sum = 0\n",
    "i = 1\n",
    "\n",
    "while(i <= num):\n",
    "    if (i % 2 == 0):\n",
    "        sum = sum + i\n",
    "    i = i +1\n",
    "    \n",
    "print(f'1부터 {num}까지의 짝수 합은 : {sum}')"
   ]
  },
  {
   "cell_type": "markdown",
   "id": "0ab5c172-1b5d-4c07-830f-a10994a75a01",
   "metadata": {},
   "source": [
    "### for\n",
    "* 지정한 횟수만큼 특정 코드들을 반복 실행\n",
    "* 반복횟수 지정 시 range 함수 사용"
   ]
  },
  {
   "cell_type": "code",
   "execution_count": null,
   "id": "e2559719-38be-478c-bc66-5bdf6e684ede",
   "metadata": {},
   "outputs": [],
   "source": [
    "# range(n) : 0 ~ n-1\n",
    "# range(n, m) : n ~ m-1\n",
    "print(list( range(10) ))\n",
    "print(list( range(1, 10+1) ))\n",
    "print(list( range(1, 10+1, 2) ))\n",
    "print(list( range(9, 0, -2) ))\n",
    "print(list( range(19, 1, -1) ))"
   ]
  },
  {
   "cell_type": "code",
   "execution_count": null,
   "id": "0ad4cdea-5e94-4b6e-8dcb-139eb44e2094",
   "metadata": {},
   "outputs": [],
   "source": [
    "# 1 ~ 10까지 정수 출력 3\n",
    "for i in range(10):\n",
    "    print(i + 1)"
   ]
  },
  {
   "cell_type": "code",
   "execution_count": null,
   "id": "03186ad9-16fa-4a53-86bc-adf242a712d0",
   "metadata": {},
   "outputs": [],
   "source": [
    "# 1 ~ 10까지 정수 출력 4\n",
    "for i in range(1, 10+1): # 3이랑 4의 결과는 똑같음, 코드를 어떤걸 쓰냐의 차이\n",
    "    print(i)"
   ]
  },
  {
   "cell_type": "code",
   "execution_count": null,
   "id": "34376af4-2082-4107-81d2-db3656f843a3",
   "metadata": {},
   "outputs": [],
   "source": [
    "# 단을 입력받아 구구단 출력 1\n",
    "\n",
    "g = int(input('출력을 원하는 단을 입력 : '))\n",
    "\n",
    "print(f'*** {g} 단 ***')\n",
    "\n",
    "for i in range(1, 10):\n",
    "    print(f'{g} * {i} = {g * i}')"
   ]
  },
  {
   "cell_type": "code",
   "execution_count": null,
   "id": "0c3b20f1-2e3f-4a22-9398-49c0ad93205a",
   "metadata": {},
   "outputs": [],
   "source": [
    "# 1 ~ 1000까지의 정수 중 입력한 숫자의 배수만 합산해서 출력\n",
    "\n",
    "num = int(input('합을 원하는 배수 입력 : '))\n",
    "\n",
    "sum = 0\n",
    "for i in range(1, 1000+1):\n",
    "    if (i % num == 0):\n",
    "        sum = sum + i\n",
    "\n",
    "print(f'1부터 1000까지 {num}의 배수의 합은 : {sum}')"
   ]
  },
  {
   "cell_type": "code",
   "execution_count": null,
   "id": "c6c1debf-7b3c-4bf0-a8fd-5001884bca7f",
   "metadata": {},
   "outputs": [],
   "source": [
    "# 하나의 숫자를 입력받아 팩토리얼을 구해서 출력\n",
    "\n",
    "num = int(input('팩토리얼 숫자 입력 : '))\n",
    "\n",
    "sum = 1\n",
    "for i in range(num, 1, -1):\n",
    "    sum = sum * i\n",
    "    \n",
    "print(f'{num}!(팩토리얼)의 값은 : {sum}')"
   ]
  },
  {
   "cell_type": "markdown",
   "id": "a80a4929-14e7-4546-9b96-d684c6b9c6dc",
   "metadata": {},
   "source": [
    "### 무한반복\n",
    "* 조건식이 항상 참이어서 반복이 끝나지 않는 반복문"
   ]
  },
  {
   "cell_type": "code",
   "execution_count": null,
   "id": "a03b18e7-5bf8-4b05-b49b-3db100256613",
   "metadata": {},
   "outputs": [],
   "source": [
    "#  무한반복 1\n",
    "while True:\n",
    "    print('Hellow, World!!')"
   ]
  },
  {
   "cell_type": "code",
   "execution_count": null,
   "id": "dc26cd25-31a5-488f-b5cc-f57abbd3efd5",
   "metadata": {},
   "outputs": [],
   "source": [
    "#  무한반복 2\n",
    "while 1:\n",
    "    print('Hellow, World!!')"
   ]
  },
  {
   "cell_type": "code",
   "execution_count": null,
   "id": "32c8419f-851d-4ec0-9d3d-5154969e8e83",
   "metadata": {},
   "outputs": [],
   "source": [
    "#  무한반복 3\n",
    "while 'python':\n",
    "    print('Hellow, World!!')"
   ]
  },
  {
   "cell_type": "markdown",
   "id": "dd67e964-180e-4e3b-9b60-0e5593536082",
   "metadata": {},
   "source": [
    "### 반복 중단 또는 건너뛰기\n",
    "* 반복하는 중에 break문을 사용하면 반복을 중단할 수 있음\n",
    "* 반복하는 중에 continue문을 사용하면 반복을 건너뛸 수 있음"
   ]
  },
  {
   "cell_type": "code",
   "execution_count": null,
   "id": "702e3352-1495-4970-9e50-88f8ecbd9fd7",
   "metadata": {},
   "outputs": [],
   "source": [
    "# 1부터 100까지의 총 합을 구하세요\n",
    "# 단, 총합이 500이 되면 반복을 중단\n",
    "\n",
    "sum = 0\n",
    "i = 1\n",
    "\n",
    "while i <= 100:\n",
    "    sum = sum + i\n",
    "    if (sum >= 500): break\n",
    "    i = i + 1\n",
    "    \n",
    "print(f'총합이 500일 때 i : {i}')"
   ]
  },
  {
   "cell_type": "code",
   "execution_count": null,
   "id": "cc86f418-1de3-4a51-b244-a2e28c8e4ec0",
   "metadata": {
    "tags": []
   },
   "outputs": [],
   "source": [
    "# 1부터 100까지의 총합을 구하세요\n",
    "# 단, 3의 배수 또는 5의 배수는 제외\n",
    "\n",
    "sum = 0\n",
    "i = 0\n",
    "\n",
    "while i <= (100 - 1):\n",
    "    i = i + 1\n",
    "    if (i % 3 == 0 or i % 5 == 0):\n",
    "        continue\n",
    "    sum = sum + i\n",
    "    \n",
    "print(f'총합 : {sum}')"
   ]
  },
  {
   "cell_type": "code",
   "execution_count": null,
   "id": "46fbeb26-d8ef-443e-9014-4ded8537cd77",
   "metadata": {
    "tags": []
   },
   "outputs": [],
   "source": [
    "sum = 0\n",
    "i = 0\n",
    "\n",
    "for i in range(1, 100 + 1):\n",
    "    if (i % 3 == 0 or i % 5 == 0):\n",
    "        continue\n",
    "    sum = sum + i\n",
    "    \n",
    "print(f'총합 : {sum}')"
   ]
  },
  {
   "cell_type": "code",
   "execution_count": null,
   "id": "e405cb48-bea7-4bd2-9b3a-6f330922b4c7",
   "metadata": {
    "tags": []
   },
   "outputs": [],
   "source": [
    "# 입력한 수가 소수인지 여부 확인\n",
    "# 1과 자기자신만으로만 나누어 지는 수\n",
    "\n",
    "num = int(input('소수 검증 숫자 입력 : '))\n",
    "\n",
    "isPrime = '소수입니다'\n",
    "\n",
    "for i in range(2, num):\n",
    "    if num % i == 0:\n",
    "        isPrime = '소수가 아닙니다'\n",
    "        break\n",
    "        \n",
    "print(f'{isPrime}')\n",
    "\n",
    "print(f'소수 판별 프로그램을 이용해주셔서 감사합니다')"
   ]
  },
  {
   "cell_type": "code",
   "execution_count": null,
   "id": "2dbe62f0-0349-4eaa-bd73-f38ab0200c22",
   "metadata": {
    "tags": []
   },
   "outputs": [],
   "source": [
    "# 1부터 100사이 수 중 2의 배수이면서 3의 배수가 아닌 모든 수를 출력\n",
    "\n",
    "i = 0\n",
    "while i <= (100 - 1):\n",
    "    i = i + 1\n",
    "    if (i % 2 == 0 and i % 3 != 0):\n",
    "        print(i, end = ' ')\n",
    "        \n",
    "# 선생님 코드\n",
    "# for i in range(1, 100+1):\n",
    "#     if (i % 2 == 0 and i % 3 != 0):\n",
    "#     print(i, end=' ')"
   ]
  },
  {
   "cell_type": "code",
   "execution_count": null,
   "id": "05505f87-fb37-484b-bdbd-4d8d22d124ab",
   "metadata": {
    "tags": []
   },
   "outputs": [],
   "source": [
    "# 5개 과목의 성적을 입력받아 총점, 평균을 출력\n",
    "# 단, 입력한 성적이 올바르지 않은 경우 '유효하지 않은 성적'라고 출력\n",
    "\n",
    "n = 1\n",
    "total = 0\n",
    "\n",
    "while (n <= 5) :\n",
    "    a = int(input(f'{n}번째 성적 입력 : '))\n",
    "    print(f'{n}번째 성적 : {a}')\n",
    "    n = n + 1\n",
    "    total = total + a\n",
    "\n",
    "print(f'총점 : {total}')\n",
    "print(f'평균 : {(total / 5):.1f}')\n",
    "\n",
    "\n",
    "# 선생님 코드\n",
    "# sum = 0\n",
    "\n",
    "# for i in range(1, 5+1):\n",
    "#     num = int(input(f'{i}번째 성적 입력 : '))\n",
    "#     print(f'{i}번째 성적 : {num}')\n",
    "#     sum = sum + num\n",
    "\n",
    "# print(f'총점 : {sum}')\n",
    "# print(f'평균 : {(sum / 5):.1f}')"
   ]
  },
  {
   "cell_type": "code",
   "execution_count": null,
   "id": "d7d867e8-d255-40f5-9912-0de83ed8a239",
   "metadata": {
    "tags": []
   },
   "outputs": [],
   "source": [
    "sum = 0\n",
    "\n",
    "for i in range(1, 5+1):\n",
    "    num = int(input(f'{i}번째 성적 입력 : '))\n",
    "    \n",
    "    if (0 > num or num > 100):\n",
    "        print('유효하지 않은 성적')\n",
    "        continue\n",
    "        \n",
    "    print(f'{i}번째 성적 : {num}')\n",
    "    sum = sum + num\n",
    "\n",
    "print(f'총점 : {sum}')\n",
    "print(f'평균 : {(sum / 5):.1f}')"
   ]
  },
  {
   "cell_type": "code",
   "execution_count": null,
   "id": "b3b69671-5b83-468d-9c67-39ec4f149c62",
   "metadata": {
    "tags": []
   },
   "outputs": [],
   "source": [
    "sum = 0\n",
    "saved = 1  # 올바르게 입력된 성적 갯수\n",
    "\n",
    "while (saved <= 5):\n",
    "    num = int(input(f'{saved}번째 성적 입력 : '))\n",
    "    \n",
    "    if (0 > num or num > 100):\n",
    "        print('유효하지 않은 성적')\n",
    "        continue\n",
    "    \n",
    "    print(f'{saved}번째 성적 : {num}')\n",
    "    saved = saved + 1\n",
    "    sum = sum + num\n",
    "\n",
    "print(f'총점 : {sum}')\n",
    "print(f'평균 : {(sum / 5):.1f}')"
   ]
  },
  {
   "cell_type": "code",
   "execution_count": null,
   "id": "2b393717-c371-4f40-b4c6-2b65abc75756",
   "metadata": {},
   "outputs": [],
   "source": [
    "# 정수를 반복적으로 입력 받아 총합이 1000이상이 되었을 때의\n",
    "# 결과값과 평균을 출력\n",
    "\n",
    "sum = 0\n",
    "cnt = 0\n",
    "\n",
    "while True:\n",
    "    if (sum >= 1000): break\n",
    "    num = int(input(f'숫자를 입력 : '))\n",
    "    sum = sum + num\n",
    "    cnt = cnt + 1\n",
    "\n",
    "print(f'총합이 1000일 때 결과값 : {sum}')\n",
    "print(f'평균 : {(sum / cnt):.2f}')"
   ]
  },
  {
   "cell_type": "code",
   "execution_count": null,
   "id": "ace94963-b694-43ec-a7e7-99ea2255bc30",
   "metadata": {},
   "outputs": [],
   "source": [
    "# 숫자 하나를 입력 받아 '*' 을 이용해서 삼각형 모양으로 출력\n",
    "\n",
    "num = int(input('숫자 입력 : '))\n",
    "star = '*'\n",
    "\n",
    "for i in range(1, num+1):\n",
    "    print('*' * i)"
   ]
  },
  {
   "cell_type": "code",
   "execution_count": null,
   "id": "b9324e59-80a0-4226-80eb-4360053c7598",
   "metadata": {},
   "outputs": [],
   "source": [
    "num = int(input('숫자 입력 : '))\n",
    "star = '*'\n",
    "\n",
    "for i in range(1, num+1):\n",
    "    for j in range(i):\n",
    "        print('*', end='')\n",
    "    print()"
   ]
  },
  {
   "cell_type": "markdown",
   "id": "4998a71d-3aa8-487d-84f5-7657573e6877",
   "metadata": {},
   "source": [
    "### 실습문제\n",
    "`성적처리프로그램 v3` <br />\n",
    "* 입력값 : 이름, 국어, 영어, 수학\n",
    "* 출력값 : 이름, 국어, 영어, 수학 점수, 총점, 평균, 학점(수우미양가)\n",
    "* 평균은 소수점 둘째자리까지\n",
    "* 3명의 학생에 대해 성적처리"
   ]
  },
  {
   "cell_type": "code",
   "execution_count": null,
   "id": "21952143-1382-4658-a4bb-57814b4c498b",
   "metadata": {
    "tags": []
   },
   "outputs": [],
   "source": [
    "name1 = input('이름 : ')\n",
    "kor1 = int(input('국어 점수는 : '))\n",
    "eng1 = int(input('영어 점수는 : '))\n",
    "mat1 = int(input('수학 점수는 : '))"
   ]
  },
  {
   "cell_type": "code",
   "execution_count": null,
   "id": "6bebe344-db49-4d92-8f1d-4ef1e8faebd4",
   "metadata": {},
   "outputs": [],
   "source": [
    "name2 = input('이름 : ')\n",
    "kor2 = int(input('국어 점수는 : '))\n",
    "eng2 = int(input('영어 점수는 : '))\n",
    "mat2 = int(input('수학 점수는 : '))"
   ]
  },
  {
   "cell_type": "code",
   "execution_count": null,
   "id": "756431a4-fc3e-4f50-b458-e9946f8a4494",
   "metadata": {},
   "outputs": [],
   "source": [
    "name3 = input('이름 : ')\n",
    "kor3 = int(input('국어 점수는 : '))\n",
    "eng3 = int(input('영어 점수는 : '))\n",
    "mat3 = int(input('수학 점수는 : '))"
   ]
  },
  {
   "cell_type": "code",
   "execution_count": null,
   "id": "53334faa-dfff-4bc2-9db4-333252d93843",
   "metadata": {},
   "outputs": [],
   "source": [
    "total1 = kor1 + eng1 + mat1\n",
    "avg1 = total1 / 3\n",
    "total2 = kor2 + eng2 + mat2\n",
    "avg2 = total2 / 3\n",
    "total3 = kor3 + eng3 + mat3\n",
    "avg3 = total3 / 3"
   ]
  },
  {
   "cell_type": "code",
   "execution_count": null,
   "id": "a38c564c-06f2-4285-adc8-79cebb8e373d",
   "metadata": {},
   "outputs": [],
   "source": [
    "grd1 = '수' if (90 <= avg1 <= 100) else \\\n",
    "     ('우' if (80 <= avg1 <= 89) else \\\n",
    "     ('미' if (70 <= avg1 <= 79) else \\\n",
    "     ('양' if (60 <= avg1 <= 69) else '가')))"
   ]
  },
  {
   "cell_type": "code",
   "execution_count": null,
   "id": "30be84a7-39d9-4e87-915a-7d1a8e586e99",
   "metadata": {},
   "outputs": [],
   "source": [
    "grd2 = '수' if (90 <= avg2 <= 100) else \\\n",
    "     ('우' if (80 <= avg2 <= 89) else \\\n",
    "     ('미' if (70 <= avg2 <= 79) else \\\n",
    "     ('양' if (60 <= avg2 <= 69) else '가')))"
   ]
  },
  {
   "cell_type": "code",
   "execution_count": null,
   "id": "11c3cd82-f0fd-45a3-9e0c-25b2cdb239b1",
   "metadata": {},
   "outputs": [],
   "source": [
    "grd3 = '수' if (90 <= avg3 <= 100) else \\\n",
    "     ('우' if (80 <= avg3 <= 89) else \\\n",
    "     ('미' if (70 <= avg3 <= 79) else \\\n",
    "     ('양' if (60 <= avg3 <= 69) else '가')))"
   ]
  },
  {
   "cell_type": "code",
   "execution_count": null,
   "id": "8501dd11-de73-4f3a-b781-843f7cfa2129",
   "metadata": {
    "tags": []
   },
   "outputs": [],
   "source": [
    "fmt = f'''이름 : {name1}, 국어 : {kor1}, 영어 : {eng1}, 수학 : {mat1}\n",
    "총점 : {total1}, 평균 : {avg1:.2f}, 학점 : {grd1} '''\n",
    "    \n",
    "print(fmt)"
   ]
  },
  {
   "cell_type": "code",
   "execution_count": null,
   "id": "89e19dd4-0217-4c0e-9acc-9aa23580322e",
   "metadata": {},
   "outputs": [],
   "source": [
    "fmt = f'''이름 : {name2}, 국어 : {kor2}, 영어 : {eng2}, 수학 : {mat2}\n",
    "총점 : {total2}, 평균 : {avg2:.2f}, 학점 : {grd2} '''\n",
    "    \n",
    "print(fmt)"
   ]
  },
  {
   "cell_type": "code",
   "execution_count": null,
   "id": "775233cd-1c16-4512-be36-751b4b9d3bb2",
   "metadata": {},
   "outputs": [],
   "source": [
    "fmt = f'''이름 : {name3}, 국어 : {kor3}, 영어 : {eng3}, 수학 : {mat3}\n",
    "총점 : {total3}, 평균 : {avg3:.2f}, 학점 : {grd3} '''\n",
    "    \n",
    "print(fmt)"
   ]
  }
 ],
 "metadata": {
  "kernelspec": {
   "display_name": "Python 3 (ipykernel)",
   "language": "python",
   "name": "python3"
  },
  "language_info": {
   "codemirror_mode": {
    "name": "ipython",
    "version": 3
   },
   "file_extension": ".py",
   "mimetype": "text/x-python",
   "name": "python",
   "nbconvert_exporter": "python",
   "pygments_lexer": "ipython3",
   "version": "3.11.4"
  }
 },
 "nbformat": 4,
 "nbformat_minor": 5
}
