{
 "cells": [
  {
   "cell_type": "markdown",
   "id": "5312e29a-7624-43c9-91eb-155f0959c609",
   "metadata": {},
   "source": [
    "# 시퀀스 자료형\n",
    "* 리스트, 튜플\n",
    "* 세트\n",
    "* 딕셔너리"
   ]
  },
  {
   "cell_type": "markdown",
   "id": "83d6043e-669b-41bd-ab77-4cbfac1d7902",
   "metadata": {},
   "source": [
    "### 리스트\n",
    "* 동일한 자료형을 가지는 데이터들을 순서대로 관리하는 자료구조\n",
    "* 데이터 저장시 입력한 순서를 기억\n",
    "* 리스트에 중복으로 값을 저장할 수 있음"
   ]
  },
  {
   "cell_type": "code",
   "execution_count": 1,
   "id": "c07d98fd-f47e-46f1-925d-3baab161f53d",
   "metadata": {
    "tags": []
   },
   "outputs": [
    {
     "name": "stdout",
     "output_type": "stream",
     "text": [
      "[]\n",
      "[1, 2, 3]\n",
      "[4, 'abc123', True]\n"
     ]
    }
   ],
   "source": [
    "# 리스트 선언 -> 이렇게 쓸 수 있지만 선생님은 비추하는 코드임\n",
    "a = []\n",
    "b = [1, 2, 3]            #숫자형 데이터가 저장된 리스트\n",
    "c = [4, 'abc123', True] # 다양한 자료형으로 구성된 데이터가 저장된 리스트\n",
    "\n",
    "print(a)\n",
    "print(b)\n",
    "print(c)"
   ]
  },
  {
   "cell_type": "code",
   "execution_count": 2,
   "id": "080736e0-5237-437e-aff1-e8055e1ba2ef",
   "metadata": {
    "collapsed": true,
    "jupyter": {
     "outputs_hidden": true
    },
    "tags": []
   },
   "outputs": [
    {
     "name": "stdout",
     "output_type": "stream",
     "text": [
      "['life', 'is', 'too', 'hot']\n",
      "life hot\n",
      "hot life\n"
     ]
    }
   ],
   "source": [
    "# 리스트 인덱싱\n",
    "# 리스트명[인덱스]\n",
    "# 인덱스는 0부터 시작 (단, 오른쪽에서 왼쪽으로 갈 때는 -1부터 시작)\n",
    "d = ['life','is','too','hot']\n",
    "\n",
    "print(d)\n",
    "print(d[0], d[3])\n",
    "print(d[-1], d[-4])"
   ]
  },
  {
   "cell_type": "code",
   "execution_count": 3,
   "id": "8a5509b8-7baa-4ac4-86c2-63423f4eb230",
   "metadata": {
    "collapsed": true,
    "jupyter": {
     "outputs_hidden": true
    },
    "tags": []
   },
   "outputs": [
    {
     "name": "stdout",
     "output_type": "stream",
     "text": [
      "['life', 'is']\n",
      "['life', 'is']\n",
      "['too', 'hot']\n",
      "['too', 'hot']\n",
      "['hot', 'too']\n",
      "['hot', 'too', 'is', 'life']\n"
     ]
    }
   ],
   "source": [
    "# 리스트 슬라이싱 - 범위 지정 후 요소 추출\n",
    "# 리스트명[시작:끝-1:간격]\n",
    "\n",
    "print(d[0:2])    # 첫번째, 두번째 요소 슬라이싱\n",
    "print(d[:2])     # 시작이 생략되면 맨 처음 요소부터 슬라이싱\n",
    "print(d[2:4])    # 세번째, 네번째 요소 슬라이싱\n",
    "print(d[2:])     # 끝이 생략되면 맨 마지막 요소까지 슬라이싱\n",
    "print(d[3:1:-1]) # 스텝을 -1로 지정하면 뒤에서부터 요소 슬라이싱\n",
    "print(d[::-1])   # 요소들을 역순으로 슬라이싱"
   ]
  },
  {
   "cell_type": "code",
   "execution_count": 4,
   "id": "0b6417f3-a1b3-4e97-910d-cee3ff4f9928",
   "metadata": {
    "collapsed": true,
    "jupyter": {
     "outputs_hidden": true
    },
    "tags": []
   },
   "outputs": [
    {
     "name": "stdout",
     "output_type": "stream",
     "text": [
      "[1, 3, 5, 7, 1, 3, 5, 7, 1, 3, 5, 7]\n",
      "4\n"
     ]
    }
   ],
   "source": [
    "# 리스트 연산\n",
    "\n",
    "e = [1, 3, 5, 7]\n",
    "\n",
    "print(e * 3)     # 리스트 반복\n",
    "print(e[0] + 3)  # 리스트 연산"
   ]
  },
  {
   "cell_type": "code",
   "execution_count": 5,
   "id": "d130f193-0523-4986-b7c4-76e958612caf",
   "metadata": {
    "collapsed": true,
    "jupyter": {
     "outputs_hidden": true
    },
    "tags": []
   },
   "outputs": [
    {
     "name": "stdout",
     "output_type": "stream",
     "text": [
      "['수민', '민수', '민희']\n"
     ]
    }
   ],
   "source": [
    "# 리스트 요소 추가\n",
    "# 리스트명.append(값)\n",
    "# 리스트명.insert(위치, 값)\n",
    "\n",
    "names = []\n",
    "\n",
    "names.append('수민')\n",
    "names.append('민수')\n",
    "names.append('민희')\n",
    "print(names)"
   ]
  },
  {
   "cell_type": "code",
   "execution_count": 6,
   "id": "5e8ce67f-8593-492b-84b6-f296e0ebdb72",
   "metadata": {
    "collapsed": true,
    "jupyter": {
     "outputs_hidden": true,
     "source_hidden": true
    },
    "tags": []
   },
   "outputs": [
    {
     "name": "stdout",
     "output_type": "stream",
     "text": [
      "['뉴진스', '수민', '민수', '민희']\n"
     ]
    }
   ],
   "source": [
    "names.insert(0, '뉴진스')\n",
    "\n",
    "print(names)"
   ]
  },
  {
   "cell_type": "code",
   "execution_count": 7,
   "id": "6fd16554-3fc8-4d6f-99ad-051f1ccf81f3",
   "metadata": {
    "collapsed": true,
    "jupyter": {
     "outputs_hidden": true
    },
    "tags": []
   },
   "outputs": [
    {
     "name": "stdout",
     "output_type": "stream",
     "text": [
      "1\n",
      "3\n"
     ]
    }
   ],
   "source": [
    "# 리스트 요소 인덱스 확인\n",
    "# 리스트명.index(값)\n",
    "\n",
    "print(names.index('수민'))\n",
    "print(names.index('민희'))"
   ]
  },
  {
   "cell_type": "code",
   "execution_count": 8,
   "id": "721a9b8b-e136-4d5a-abe6-35d8cf86bbc8",
   "metadata": {
    "collapsed": true,
    "jupyter": {
     "outputs_hidden": true,
     "source_hidden": true
    },
    "tags": []
   },
   "outputs": [
    {
     "name": "stdout",
     "output_type": "stream",
     "text": [
      "['블랙핑크', '수민', '민수', '민희']\n"
     ]
    }
   ],
   "source": [
    "# 리스트 수정\n",
    "# 리스트명[인덱스] = 값\n",
    "\n",
    "names[0] = '블랙핑크'\n",
    "\n",
    "print(names)"
   ]
  },
  {
   "cell_type": "code",
   "execution_count": 9,
   "id": "3af84078-aecf-428d-9ccf-970d6a2a9f98",
   "metadata": {
    "jupyter": {
     "source_hidden": true
    },
    "tags": []
   },
   "outputs": [
    {
     "name": "stdout",
     "output_type": "stream",
     "text": [
      "['블랙핑크', '수민', '민수']\n"
     ]
    }
   ],
   "source": [
    "# 리스트 삭제\n",
    "# 리스트명.remove(값)\n",
    "# 리스트명.pop()\n",
    "\n",
    "names.remove('민희')\n",
    "print(names)"
   ]
  },
  {
   "cell_type": "code",
   "execution_count": 27,
   "id": "8c3945b1-6122-4e4f-86b7-395b02bf34c5",
   "metadata": {
    "tags": []
   },
   "outputs": [
    {
     "data": {
      "text/plain": [
       "'민수'"
      ]
     },
     "execution_count": 27,
     "metadata": {},
     "output_type": "execute_result"
    }
   ],
   "source": [
    "names.pop()  # 맨끝 요소 제거"
   ]
  },
  {
   "cell_type": "code",
   "execution_count": 33,
   "id": "00e043ef-e1a1-480d-8b27-8cd06e7d8710",
   "metadata": {
    "tags": []
   },
   "outputs": [
    {
     "name": "stdout",
     "output_type": "stream",
     "text": [
      "2\n",
      "0\n",
      "False\n"
     ]
    }
   ],
   "source": [
    "# 기타 리스트 함수\n",
    "\n",
    "print(len(names))\n",
    "print(names.count('민희'))  # 특정 요소값의 갯수\n",
    "print('태은' in names)      # 특정 요소값 존재여부"
   ]
  },
  {
   "cell_type": "markdown",
   "id": "0442bfc3-51d1-48b9-a2f4-789cfba6fb21",
   "metadata": {},
   "source": [
    "### 실습문제\n",
    "`성적처리프로그램 v4` <br />\n",
    "* 입력값 : 이름, 국어, 영어, 수학\n",
    "* 출력값 : 이름, 국어, 영어, 수학 점수, 총점, 평균, 학점(수우미양가)\n",
    "* 평균은 소수점 둘째자리까지\n",
    "* 3명의 학생에 대해 성적처리 수행 (리스트/반복문 이용)"
   ]
  },
  {
   "cell_type": "code",
   "execution_count": 47,
   "id": "1599d8d5-b6d4-426c-a6e9-f52d8b699396",
   "metadata": {},
   "outputs": [],
   "source": [
    "names = []\n",
    "kors, engs, mats = [], [], []\n",
    "tots, avgs, grds = [], [], []"
   ]
  },
  {
   "cell_type": "code",
   "execution_count": 48,
   "id": "321a18fa-744e-40a6-b4d1-ac945cf45199",
   "metadata": {},
   "outputs": [
    {
     "name": "stdin",
     "output_type": "stream",
     "text": [
      "이름 :  수민\n",
      "국어 점수는 :  80\n",
      "영어 점수는 :  80\n",
      "수학 점수는 :  80\n",
      "이름 :  빵빵\n",
      "국어 점수는 :  70\n",
      "영어 점수는 :  70\n",
      "수학 점수는 :  70\n",
      "이름 :  옥지\n",
      "국어 점수는 :  100\n",
      "영어 점수는 :  100\n",
      "수학 점수는 :  100\n"
     ]
    }
   ],
   "source": [
    "for i in range(3):\n",
    "    name = input('이름 : ')\n",
    "    kor = int(input('국어 점수는 : '))\n",
    "    eng = int(input('영어 점수는 : '))\n",
    "    mat = int(input('수학 점수는 : '))\n",
    "\n",
    "    names.append(name)\n",
    "    kors.append(kor)\n",
    "    engs.append(eng)\n",
    "    mats.append(mat)"
   ]
  },
  {
   "cell_type": "code",
   "execution_count": 50,
   "id": "b0b1804a-22b7-40cc-867b-55c32559b740",
   "metadata": {},
   "outputs": [],
   "source": [
    "for i in range(3):\n",
    "    tots.append( kors[i] + engs[i] + mats[i] )\n",
    "    avgs.append( tots[i] / 3 )\n",
    "    grds.append( '수' if (90 <= avgs[i] <= 100) else \\\n",
    "         ('우' if (80 <= avgs[i] <= 89) else \\\n",
    "         ('미' if (70 <= avgs[i] <= 79) else \\\n",
    "         ('양' if (60 <= avgs[i] <= 69) else '가'))) )"
   ]
  },
  {
   "cell_type": "code",
   "execution_count": 51,
   "id": "9d66c868-2832-4865-9b11-1f5403fb2e76",
   "metadata": {},
   "outputs": [
    {
     "name": "stdout",
     "output_type": "stream",
     "text": [
      "이름 : 수민, 국어 : 80, 영어 : 80, 수학 : 80\n",
      "    총점 : 240, 평균 : 80.00, 학점 : 우 \n",
      "이름 : 빵빵, 국어 : 70, 영어 : 70, 수학 : 70\n",
      "    총점 : 210, 평균 : 70.00, 학점 : 미 \n",
      "이름 : 옥지, 국어 : 100, 영어 : 100, 수학 : 100\n",
      "    총점 : 300, 평균 : 100.00, 학점 : 수 \n"
     ]
    }
   ],
   "source": [
    "for i in range(3):\n",
    "    fmt = f'''이름 : {names[i]}, 국어 : {kors[i]}, 영어 : {engs[i]}, 수학 : {mats[i]}\n",
    "    총점 : {tots[i]}, 평균 : {avgs[i]:.2f}, 학점 : {grds[i]} '''\n",
    "\n",
    "    print(fmt)"
   ]
  },
  {
   "cell_type": "markdown",
   "id": "30588355-f33a-4581-9414-91a03c35f852",
   "metadata": {},
   "source": [
    "### 문자열 String\n",
    "* 하나 이상의 문자들을 순서대로 나열한 것\n",
    "* 리스트에 사용한 인덱싱과 슬라이싱을 문자열에도 적용가능"
   ]
  },
  {
   "cell_type": "code",
   "execution_count": 54,
   "id": "9fc5232c-46bf-4c14-9d5b-0dc21c5e3ee6",
   "metadata": {},
   "outputs": [
    {
     "name": "stdout",
     "output_type": "stream",
     "text": [
      "Hello, World!!\n",
      "W\n",
      "World!!\n"
     ]
    }
   ],
   "source": [
    "str = 'Hello, World!!'\n",
    "\n",
    "print(str)\n",
    "print(str[7])\n",
    "print(str[7:])\n",
    "print(str[::-1])"
   ]
  },
  {
   "cell_type": "code",
   "execution_count": 55,
   "id": "dbf0dee1-4aa9-42ae-a509-4c36df78d8d1",
   "metadata": {},
   "outputs": [
    {
     "name": "stdout",
     "output_type": "stream",
     "text": [
      "H e l l o ,   W o r l d ! ! "
     ]
    }
   ],
   "source": [
    "# 문자열 탐색\n",
    "\n",
    "for i in range(len(str)):\n",
    "    print(str[i], end=' ')  # 이건 좀 옛날 방식"
   ]
  },
  {
   "cell_type": "code",
   "execution_count": 56,
   "id": "7f2d3f15-4c66-4a59-90cc-7b2bc0e7e496",
   "metadata": {},
   "outputs": [
    {
     "name": "stdout",
     "output_type": "stream",
     "text": [
      "H e l l o ,   W o r l d ! ! "
     ]
    }
   ],
   "source": [
    "for c in str:\n",
    "    print(c, end=' ')"
   ]
  },
  {
   "cell_type": "code",
   "execution_count": 79,
   "id": "d1fe83e5-b776-474a-9ac2-05419867f9f1",
   "metadata": {},
   "outputs": [
    {
     "name": "stdout",
     "output_type": "stream",
     "text": [
      "False\n",
      "True\n"
     ]
    }
   ],
   "source": [
    "str = 'abc123'\n",
    "\n",
    "print(str.isalpha()) # 모두 문자\n",
    "print(str.isalnum()) # 문자와 숫자 둘 다"
   ]
  },
  {
   "cell_type": "code",
   "execution_count": 80,
   "id": "558ea298-af6d-438d-93ad-1fc213a95885",
   "metadata": {},
   "outputs": [
    {
     "name": "stdout",
     "output_type": "stream",
     "text": [
      "False\n",
      "False\n"
     ]
    }
   ],
   "source": [
    "str = '123456'\n",
    "\n",
    "print(str.isdecimal()) # 10진수 (일반적인 숫자)\n",
    "print(str.isdigit())   # 2진수\n",
    "print(str.isnumeric()) # 얜 뭐임 (isdigit과 함께 좀 더 넓은 범위의 숫자)"
   ]
  },
  {
   "cell_type": "code",
   "execution_count": 81,
   "id": "b8c81b22-7e47-4668-8cde-f7474c9669f9",
   "metadata": {},
   "outputs": [
    {
     "name": "stdout",
     "output_type": "stream",
     "text": [
      "False\n",
      "True\n",
      "True\n"
     ]
    }
   ],
   "source": [
    "str = '2³'\n",
    "\n",
    "print(str.isdecimal()) # 10진수\n",
    "print(str.isdigit())   # 2진수\n",
    "print(str.isnumeric()) # 얜 뭐임"
   ]
  },
  {
   "cell_type": "code",
   "execution_count": 82,
   "id": "ce907026-4e32-4721-a763-fed1c906009c",
   "metadata": {},
   "outputs": [
    {
     "name": "stdout",
     "output_type": "stream",
     "text": [
      "False\n",
      "False\n",
      "True\n"
     ]
    }
   ],
   "source": [
    "str = '⅚'\n",
    "\n",
    "print(str.isdecimal()) # 10진수\n",
    "print(str.isdigit())   # 2진수\n",
    "print(str.isnumeric()) # 얜 뭐임"
   ]
  },
  {
   "cell_type": "code",
   "execution_count": 1,
   "id": "79829f8f-a7f7-4a98-ad6d-39aaed3291c1",
   "metadata": {
    "tags": []
   },
   "outputs": [
    {
     "name": "stdin",
     "output_type": "stream",
     "text": [
      "영어 문장을 입력 :  hi\n"
     ]
    },
    {
     "name": "stdout",
     "output_type": "stream",
     "text": [
      "입력된 문장 길이 : 2\n",
      "각 단어의 첫 문자를 대문자로 변환 : Hi\n",
      "모든 글자를 대문자로 변환 : HI\n",
      "문자열에 a가 몇 번 나타났는가 : 0\n",
      "입력된 문자열이 모두 문자로만 구성되었는가? : True\n",
      "입력된 문자열이 모두 숫자로만 구성되었는가? : False\n",
      "입력된 문자열이 모두 대문자 구성되었는가? : False\n"
     ]
    }
   ],
   "source": [
    "# 사용자로부터 입력받은 문장을 다음과 같이 출력\n",
    "\n",
    "s1 = input('영어 문장을 입력 : ')\n",
    "\n",
    "print(f'입력된 문장 길이 : {len(s1)}')\n",
    "print(f'각 단어의 첫 문자를 대문자로 변환 : {s1.title()}')\n",
    "print(f'모든 글자를 대문자로 변환 : {s1.upper()}')\n",
    "print(f\"문자열에 a가 몇 번 나타났는가 : {s1.count('a')}\")\n",
    "print(f'입력된 문자열이 모두 문자로만 구성되었는가? : {s1.isalpha()}')\n",
    "print(f'입력된 문자열이 모두 숫자로만 구성되었는가? : {s1.isdecimal()}')\n",
    "print(f'입력된 문자열이 모두 대문자 구성되었는가? : {s1.isupper()}')\n",
    "\n",
    "# isdecimal 은 10진수 isdigit 은 2진수"
   ]
  },
  {
   "cell_type": "code",
   "execution_count": null,
   "id": "ebc14075-d979-46a4-8618-36af494af8a6",
   "metadata": {},
   "outputs": [],
   "source": []
  }
 ],
 "metadata": {
  "kernelspec": {
   "display_name": "Python 3 (ipykernel)",
   "language": "python",
   "name": "python3"
  },
  "language_info": {
   "codemirror_mode": {
    "name": "ipython",
    "version": 3
   },
   "file_extension": ".py",
   "mimetype": "text/x-python",
   "name": "python",
   "nbconvert_exporter": "python",
   "pygments_lexer": "ipython3",
   "version": "3.11.4"
  }
 },
 "nbformat": 4,
 "nbformat_minor": 5
}
