{
 "cells": [
  {
   "cell_type": "markdown",
   "id": "8bd60e68-e1c3-4151-9c73-6b2e668ba25b",
   "metadata": {},
   "source": [
    "# 실습하기 03"
   ]
  },
  {
   "cell_type": "markdown",
   "id": "0d6a3d65-c4bd-4d8f-a74e-84b5f1f809a8",
   "metadata": {},
   "source": [
    "### 로또 프로그램 v1"
   ]
  },
  {
   "cell_type": "code",
   "execution_count": 26,
   "id": "d128de65-00cd-4030-97e7-50263637f873",
   "metadata": {},
   "outputs": [
    {
     "name": "stdin",
     "output_type": "stream",
     "text": [
      "복권번호는?  379\n"
     ]
    },
    {
     "name": "stdout",
     "output_type": "stream",
     "text": [
      "축하합니다! 상품 백만원에 당첨되셨습니다!\n"
     ]
    }
   ],
   "source": [
    "## 다음 조건을 만족하는 복권 발행 프로그램\n",
    "    # 가. 사용자로부터 복권 숫자 3자리 입력 (yourkey)\n",
    "    # 나. 변수에 임의의 복권 숫자 3자리를 초기화 (lottokey)\n",
    "    # 다. 사용자가 입력한 복권 숫자가 모두 일치 : 상금 1백만원 지급\n",
    "    # 라. 일치하지 않는 경우 : \"아쉽지만, 다음 기회를!\" 출력\n",
    "\n",
    "yourkey = int(input('복권번호(3자리숫자)는? '))\n",
    "lottokey = 379\n",
    "\n",
    "if (yourkey == lottokey):\n",
    "    print('축하합니다! 상품 백만원에 당첨되셨습니다!')\n",
    "else:\n",
    "    print('아쉽지만, 다음 기회를!')"
   ]
  },
  {
   "cell_type": "markdown",
   "id": "bb88bbde-16cb-42f7-b345-fb18e1747a34",
   "metadata": {},
   "source": [
    "### 로또 프로그램 v2\n",
    "\n",
    "* 1등 (3개 모두 맞춤) : 상금 100만원\n",
    "* 2등 (2개 맞춤) : 상금 30만원\n",
    "* 3등 (1개 맞춤) : 상금 5만원\n",
    "* 꽝 (0개 맞춤) : 아쉽지만, 다음 기회를!\n",
    "* 단, 같은 숫자는 연속으로 사용 불가"
   ]
  },
  {
   "cell_type": "code",
   "execution_count": 29,
   "id": "d5c7a290-77e8-473b-ac77-c16270cf871a",
   "metadata": {},
   "outputs": [],
   "source": [
    "import random as rnd"
   ]
  },
  {
   "cell_type": "code",
   "execution_count": 30,
   "id": "448f7f70-634b-449f-8794-f09a7d3039f5",
   "metadata": {},
   "outputs": [
    {
     "data": {
      "text/plain": [
       "0.2602384346537473"
      ]
     },
     "execution_count": 30,
     "metadata": {},
     "output_type": "execute_result"
    }
   ],
   "source": [
    "rnd.random()"
   ]
  },
  {
   "cell_type": "code",
   "execution_count": 98,
   "id": "28fc4a05-dc6c-45cf-8375-4b6357de8fef",
   "metadata": {},
   "outputs": [
    {
     "data": {
      "text/plain": [
       "45"
      ]
     },
     "execution_count": 98,
     "metadata": {},
     "output_type": "execute_result"
    }
   ],
   "source": [
    "# randrange(start, end-1)\n",
    "rnd.randrange(1, 45+1)"
   ]
  },
  {
   "cell_type": "code",
   "execution_count": 121,
   "id": "58fecd6d-2fc9-487d-99bc-6ca8af383504",
   "metadata": {},
   "outputs": [
    {
     "data": {
      "text/plain": [
       "431"
      ]
     },
     "execution_count": 121,
     "metadata": {},
     "output_type": "execute_result"
    }
   ],
   "source": [
    "rnd.randrange(111, 999+1)"
   ]
  },
  {
   "cell_type": "code",
   "execution_count": 209,
   "id": "a6354ba2-c674-4f60-8239-caa12ea56480",
   "metadata": {},
   "outputs": [
    {
     "name": "stdin",
     "output_type": "stream",
     "text": [
      "복권번호(3자리숫자)는?  368\n"
     ]
    }
   ],
   "source": [
    "# key 1 : 479\n",
    "# key 2 : 947\n",
    "\n",
    "yourkey = input('복권번호(3자리숫자)는? ')\n",
    "lottokey = str(rnd.randrange(111, 999+1))"
   ]
  },
  {
   "cell_type": "code",
   "execution_count": 168,
   "id": "b25dd38d-8cbf-42f0-a2af-f7d4bd5fa716",
   "metadata": {},
   "outputs": [],
   "source": [
    "match = 0\n",
    "\n",
    "if (lottokey[0] == yourkey[0]) \\\n",
    "    or (lottokey[0] == yourkey[1]) \\\n",
    "    or (lottokey[0] == yourkey[2]): match = match + 1\n",
    "\n",
    "if (lottokey[1] == yourkey[0]) \\\n",
    "    or (lottokey[1] == yourkey[1]) \\\n",
    "    or (lottokey[1] == yourkey[2]): match = match + 1\n",
    "\n",
    "if (lottokey[2] == yourkey[0]) \\\n",
    "    or (lottokey[2] == yourkey[1]) \\\n",
    "    or (lottokey[2] == yourkey[2]): match = match + 1"
   ]
  },
  {
   "cell_type": "code",
   "execution_count": null,
   "id": "a737892f-ddff-422a-b403-5cca2190419f",
   "metadata": {},
   "outputs": [],
   "source": [
    "match = 0\n",
    "\n",
    "for i in range(3):\n",
    "    if (lottokey[i] == yourkey[0]) \\\n",
    "        or (lottokey[i] == yourkey[1]) \\\n",
    "        or (lottokey[i] == yourkey[2]): match = match + 1"
   ]
  },
  {
   "cell_type": "code",
   "execution_count": 190,
   "id": "1141a042-c02e-4a5e-ae3c-68cdc3c7eddc",
   "metadata": {},
   "outputs": [],
   "source": [
    "match = 0\n",
    "\n",
    "for i in range(3):\n",
    "    for j in range(3):\n",
    "        if (lottokey[i] == yourkey[j]): match = match + 1"
   ]
  },
  {
   "cell_type": "code",
   "execution_count": 245,
   "id": "ef46bd8c-10a4-46c9-8e7c-96c4304d81fe",
   "metadata": {},
   "outputs": [],
   "source": [
    "match = 0\n",
    "\n",
    "for l in lottokey:\n",
    "    for y in yourkey:\n",
    "        if (l == y): match = match + 1"
   ]
  },
  {
   "cell_type": "code",
   "execution_count": 319,
   "id": "cfd23eba-ee4d-44d4-9612-2df981be6d85",
   "metadata": {},
   "outputs": [
    {
     "data": {
      "text/plain": [
       "1"
      ]
     },
     "execution_count": 319,
     "metadata": {},
     "output_type": "execute_result"
    }
   ],
   "source": [
    "match"
   ]
  },
  {
   "cell_type": "code",
   "execution_count": 242,
   "id": "322f1aff-d76d-4264-a8ff-d4bb21548877",
   "metadata": {},
   "outputs": [
    {
     "name": "stdout",
     "output_type": "stream",
     "text": [
      "761 368 상금 5만원\n"
     ]
    }
   ],
   "source": [
    "msg = ''\n",
    "if match == 3: msg = '상금 100만원'\n",
    "elif match == 2: msg = '상금 30만원'\n",
    "elif match == 1: msg = '상금 5만원'\n",
    "else: msg = '아쉽지만, 다음 기회를!'\n",
    "\n",
    "print(f'{lottokey} {yourkey} {msg}')"
   ]
  },
  {
   "cell_type": "markdown",
   "id": "080b4b99-bf5d-4d52-b199-3aee2bd2d264",
   "metadata": {},
   "source": [
    "### 숫자 맞추기 v1"
   ]
  },
  {
   "cell_type": "code",
   "execution_count": 320,
   "id": "a5c0da3e-0984-4f00-90b4-1f4f15b2f6e6",
   "metadata": {},
   "outputs": [
    {
     "name": "stdin",
     "output_type": "stream",
     "text": [
      "숫자(1~100)를 하나 입력하세요 :  55\n"
     ]
    }
   ],
   "source": [
    "num1 = rnd.randrange(1,100)\n",
    "num2 = int(input('숫자(1~100)를 하나 입력하세요 : '))"
   ]
  },
  {
   "cell_type": "code",
   "execution_count": 321,
   "id": "31a9f9e1-e7a5-467c-bd9d-e3cc4018af1d",
   "metadata": {},
   "outputs": [],
   "source": [
    "msg = ''\n",
    "\n",
    "if (num1 < num2): msg = '추측한 숫자가 큽니다'\n",
    "elif (num1 > num2): msg = '추측한 숫자가 작습니다'\n",
    "elif (num1 == num2): msg = '빙고! 숫자를 맞췄습니다'"
   ]
  },
  {
   "cell_type": "code",
   "execution_count": 322,
   "id": "d0cc5066-5b2a-4f20-b193-4282eff874f4",
   "metadata": {
    "jupyter": {
     "source_hidden": true
    }
   },
   "outputs": [
    {
     "name": "stdout",
     "output_type": "stream",
     "text": [
      "61 55 추측한 숫자가 작습니다\n"
     ]
    }
   ],
   "source": [
    "print(f'{num1} {num2} {msg}')"
   ]
  },
  {
   "cell_type": "markdown",
   "id": "1b13f134-75c8-487c-acb9-d304cf84d800",
   "metadata": {},
   "source": [
    "### 숫자 맞추기 v2"
   ]
  },
  {
   "cell_type": "code",
   "execution_count": 332,
   "id": "0c329f1d-bdef-492b-86ec-b00d634f5b4a",
   "metadata": {},
   "outputs": [],
   "source": [
    "num1 = rnd.randrange(1,100)"
   ]
  },
  {
   "cell_type": "code",
   "execution_count": 333,
   "id": "2b06e3c6-b005-4bfa-8c56-69847c91ae67",
   "metadata": {},
   "outputs": [
    {
     "name": "stdin",
     "output_type": "stream",
     "text": [
      "숫자(1~100)를 하나 입력하세요 :  50\n"
     ]
    },
    {
     "name": "stdout",
     "output_type": "stream",
     "text": [
      "추측한 숫자가 작습니다\n"
     ]
    },
    {
     "name": "stdin",
     "output_type": "stream",
     "text": [
      "숫자(1~100)를 하나 입력하세요 :  60\n"
     ]
    },
    {
     "name": "stdout",
     "output_type": "stream",
     "text": [
      "추측한 숫자가 작습니다\n"
     ]
    },
    {
     "name": "stdin",
     "output_type": "stream",
     "text": [
      "숫자(1~100)를 하나 입력하세요 :  70\n"
     ]
    },
    {
     "name": "stdout",
     "output_type": "stream",
     "text": [
      "빙고! 숫자를 맞췄습니다\n"
     ]
    }
   ],
   "source": [
    "while True:\n",
    "    num2 = int(input('숫자(1~100)를 하나 입력하세요 : '))\n",
    "\n",
    "    if (num1 < num2): msg = '추측한 숫자가 큽니다'\n",
    "    elif (num1 > num2): msg = '추측한 숫자가 작습니다'\n",
    "    elif (num1 == num2):\n",
    "        print('빙고! 숫자를 맞췄습니다')\n",
    "        break\n",
    "\n",
    "    print(f'{msg}')"
   ]
  },
  {
   "cell_type": "markdown",
   "id": "70ede3f9-5f27-407a-b333-7fa8d7ea8cfc",
   "metadata": {},
   "source": [
    "### 신용카드 은행정보 출력"
   ]
  },
  {
   "cell_type": "code",
   "execution_count": 342,
   "id": "2da126f0-b052-4498-9e4a-875c8ef7924f",
   "metadata": {},
   "outputs": [
    {
     "name": "stdin",
     "output_type": "stream",
     "text": [
      "신용카드 번호(6자리)는?  524353\n"
     ]
    }
   ],
   "source": [
    "cardno = input('신용카드 번호(6자리)는? ')"
   ]
  },
  {
   "cell_type": "code",
   "execution_count": 343,
   "id": "fcd7d69f-7daa-4a48-b9b0-e2f20ca3f96e",
   "metadata": {},
   "outputs": [
    {
     "name": "stdout",
     "output_type": "stream",
     "text": [
      "외환카드\n"
     ]
    }
   ],
   "source": [
    "cardbank = ''\n",
    "\n",
    "if (cardno[:2] == '35'):\n",
    "    if (cardno[2:] == '6317'): cardbank = 'NH 농협카드'\n",
    "    elif (cardno[2:] == '6901'): cardbank = '신한카드'\n",
    "    elif (cardno[2:] == '6912'): cardbank = 'KB 국민카드'\n",
    "    else: print('잘못된 카드번호입니다!!')\n",
    "        \n",
    "elif (cardno[0] == '4'):\n",
    "    if (cardno[1:] == '04825'): cardbank = '비씨카드'\n",
    "    elif (cardno[1:] == '38676'): cardbank = '신한카드'\n",
    "    elif (cardno[1:] == '57973'): cardbank = '국민은행'\n",
    "    else: print('잘못된 카드번호입니다!!')\n",
    "        \n",
    "elif (cardno[0] == '5'):\n",
    "    if (cardno[1:] == '15594'): cardbank = '신한카드'\n",
    "    elif (cardno[1:] == '24353'): cardbank = '외환카드'\n",
    "    elif (cardno[1:] == '40926'): cardbank = '국민은행'\n",
    "    else: print('잘못된 카드번호입니다!!')\n",
    "    \n",
    "else:\n",
    "    print('잘못된 카드번호입니다!!')\n",
    "\n",
    "print(cardbank)"
   ]
  },
  {
   "cell_type": "markdown",
   "id": "785a6c5b-9227-4814-b8fa-d81599f23116",
   "metadata": {},
   "source": [
    "### 신용카드 은행정보 출력 v2"
   ]
  },
  {
   "cell_type": "code",
   "execution_count": 342,
   "id": "740fb758-3a75-4c34-8752-a5fef22d3944",
   "metadata": {},
   "outputs": [
    {
     "name": "stdin",
     "output_type": "stream",
     "text": [
      "신용카드 번호(6자리)는?  524353\n"
     ]
    }
   ],
   "source": [
    "cardno = input('신용카드 번호(6자리)는? ')"
   ]
  },
  {
   "cell_type": "code",
   "execution_count": 347,
   "id": "3b2e3dc0-c360-45df-bbab-f47677a6f129",
   "metadata": {},
   "outputs": [],
   "source": [
    "vedors = ['JCB카드', 'JCB카드', 'JCB카드',\n",
    "          '비자카드', '비자카드', '비자카드',\n",
    "          '마스터카드', '마스터카드', '마스터카드']\n",
    "cardbanks = ['NH농협카드', '신한카드', '국민카드', \n",
    "             '비씨카드', '신한카드', '국민은행', \n",
    "             '신한카드', '외환카드', '국민은행', ]\n",
    "cardnos = ['356317','356901', '356912',\n",
    "           '404825','438676','457973',\n",
    "           '515594','524353','540926']"
   ]
  },
  {
   "cell_type": "code",
   "execution_count": 349,
   "id": "2e667278-dea4-4449-be84-8e78d8640026",
   "metadata": {},
   "outputs": [
    {
     "name": "stdout",
     "output_type": "stream",
     "text": [
      "524353 마스터카드 외환카드\n"
     ]
    }
   ],
   "source": [
    "pos = -1\n",
    "\n",
    "for i in range(len(cardnos)):\n",
    "    if (cardno == cardnos[i]):\n",
    "        pos = i\n",
    "        break\n",
    "\n",
    "if pos == -1:\n",
    "    print('존재하지 않는 카드번호입니다!')\n",
    "else:\n",
    "    print(f'{cardno} {vedors[pos]} {cardbanks[pos]}')"
   ]
  },
  {
   "cell_type": "markdown",
   "id": "71dca503-73d6-4e90-b2a2-98fd52c9bc6f",
   "metadata": {
    "jupyter": {
     "source_hidden": true
    }
   },
   "source": [
    "### 신용카드 은행정보 출력 v3\n",
    "* python 3.10부터 추가된 match ~ case 사용"
   ]
  },
  {
   "cell_type": "code",
   "execution_count": 350,
   "id": "965d808c-ac62-46ed-84a5-3d1863d1e869",
   "metadata": {
    "collapsed": true,
    "jupyter": {
     "outputs_hidden": true,
     "source_hidden": true
    }
   },
   "outputs": [
    {
     "name": "stdin",
     "output_type": "stream",
     "text": [
      "신용카드 번호(6자리)는?  540926\n"
     ]
    }
   ],
   "source": [
    "cardno = input('신용카드 번호(6자리)는? ')"
   ]
  },
  {
   "cell_type": "code",
   "execution_count": 354,
   "id": "50072b92-a05d-4381-9a62-68aa5994c169",
   "metadata": {
    "jupyter": {
     "source_hidden": true
    }
   },
   "outputs": [
    {
     "name": "stdout",
     "output_type": "stream",
     "text": [
      "540926 마스터카드 국민은행\n"
     ]
    }
   ],
   "source": [
    "pos = -1\n",
    "\n",
    "match(cardno[0]):\n",
    "    case '3':\n",
    "        for i in range(3):\n",
    "            if (cardno == cardnos[i]):\n",
    "                pos = i\n",
    "                break\n",
    "\n",
    "    case '4':\n",
    "        for i in range(3, 6):\n",
    "            if (cardno == cardnos[i]):\n",
    "                pos = i\n",
    "                break\n",
    "    case '5':\n",
    "        for i in range(6, 9):\n",
    "            if (cardno == cardnos[i]):\n",
    "                pos = i\n",
    "                break\n",
    "\n",
    "if pos == -1:\n",
    "    print('존재하지 않는 카드번호입니다!')\n",
    "else:\n",
    "    print(f'{cardno} {vedors[pos]} {cardbanks[pos]}')"
   ]
  },
  {
   "cell_type": "markdown",
   "id": "b2005354-926f-4424-9b9b-7816544b11d2",
   "metadata": {},
   "source": [
    "### 시간대를 영어로 출력"
   ]
  },
  {
   "cell_type": "code",
   "execution_count": 355,
   "id": "10abdcfe-faba-4b76-816c-3c9284c027e1",
   "metadata": {
    "jupyter": {
     "source_hidden": true
    }
   },
   "outputs": [
    {
     "name": "stdin",
     "output_type": "stream",
     "text": [
      "시간때(영어로)는?  midnight\n"
     ]
    }
   ],
   "source": [
    "daytime = input('시간때(영어로)는? ')"
   ]
  },
  {
   "cell_type": "code",
   "execution_count": 357,
   "id": "2772bf8e-d440-45a0-ac0a-d481441e34d9",
   "metadata": {},
   "outputs": [
    {
     "name": "stdout",
     "output_type": "stream",
     "text": [
      "midnight 자정시간 (12)\n"
     ]
    }
   ],
   "source": [
    "result = ''\n",
    "\n",
    "if   daytime == 'morning hours'                 : result = '아침시간 (7-12)'\n",
    "elif daytime == 'midday' or daytime == 'noon'   : result = '점심시간 (12-1)'\n",
    "elif daytime == 'afternoon hours'               : result = '오후 (1-6)'\n",
    "elif daytime == 'evening hours'                 : result = '저녁시간 (6-9)'\n",
    "elif daytime == 'night hours'                   : result = '밤시간 (9-12)'\n",
    "elif daytime == 'midnight'                      : result = '자정시간 (12)'\n",
    "elif daytime == 'early morning hours'           : result = '새벽시간 (12-5)'\n",
    "elif daytime == 'small hours'                   : result = '새벽 (1-3)'\n",
    "elif daytime == 'dawn' or daytime == 'daybreak' : result = '해뜰력 (5-7)'\n",
    "else: result = '잘못 입력하셨습니다!'\n",
    "\n",
    "print(f'{daytime} {result}')"
   ]
  },
  {
   "cell_type": "markdown",
   "id": "f49a6971-faf2-4fdd-8e6a-a41c82406f0a",
   "metadata": {},
   "source": [
    "### 시간대를 영어로 출력 v2"
   ]
  },
  {
   "cell_type": "code",
   "execution_count": 377,
   "id": "41da893a-e0a8-409b-9fe1-4d49763e9b61",
   "metadata": {},
   "outputs": [
    {
     "name": "stdin",
     "output_type": "stream",
     "text": [
      "시간때(영어로)는?  dawn\n"
     ]
    }
   ],
   "source": [
    "daytime = input('시간때(영어로)는? ')"
   ]
  },
  {
   "cell_type": "code",
   "execution_count": 378,
   "id": "34c7ceaa-d7fb-4a81-a0b3-7c7b7b027c43",
   "metadata": {},
   "outputs": [],
   "source": [
    "# daytimes = ['morning hours', 'midday / noon', 'afternoon hours',\n",
    "#           'evening hours', 'night hours', 'midnight',\n",
    "#           'early morning hours', 'small hours', 'dawn / daybreak']\n",
    "# result = ['아침시간 (7-12)', '점심시간 (12-1)', '오후 (1-6)', \n",
    "#           '저녁시간 (6-9)', '밤시간 (9-12)', '자정시간 (12)', \n",
    "#           '새벽시간 (12-5)', '새벽 (1-3)', '해뜰력 (5-7)']\n",
    "\n",
    "\n",
    "# 선생님코드\n",
    "daytimes = ['morning hours', '아침시간 (7-12)',\n",
    "            'midday', '점심시간 (12-1)',\n",
    "            'noon', '점심시간 (12-1)',\n",
    "            'afternoon hours', '오후 (1-6)',\n",
    "            'evening hours', '저녁시간 (6-9)',\n",
    "            'night hours', '밤시간 (9-12)',\n",
    "            'midnight', '자정시간 (12)',\n",
    "            'early morning hours', '새벽시간 (12-5)',\n",
    "            'small hours', '새벽 (1-3)',\n",
    "            'dawn', '해뜰력 (5-7)',\n",
    "            'daybreak', '해뜰력 (5-7)']"
   ]
  },
  {
   "cell_type": "code",
   "execution_count": 379,
   "id": "032250ab-3e95-4f5a-92c0-606b2d35411e",
   "metadata": {},
   "outputs": [
    {
     "name": "stdout",
     "output_type": "stream",
     "text": [
      "dawn 해뜰력 (5-7)\n"
     ]
    }
   ],
   "source": [
    "# pos = -1\n",
    "\n",
    "# for i in range(len(daytimes)):\n",
    "#     if (daytime == daytimes[i]):\n",
    "#         pos = i\n",
    "#         break\n",
    "\n",
    "# if pos == -1:\n",
    "#     print('잘못 입력하셨습니다!')\n",
    "# else:\n",
    "#     print(f'{daytimes[pos]} {result[pos]}')\n",
    "\n",
    "\n",
    "# 선생님코드\n",
    "pos = -1\n",
    "\n",
    "for i in range(0, len(daytimes), 2):\n",
    "    if (daytime == daytimes[i]):\n",
    "        pos = i\n",
    "        break\n",
    "\n",
    "if pos == -1:\n",
    "    print('잘못 입력하셨습니다!')\n",
    "else:\n",
    "    print(f'{daytime} {daytimes[pos+1]}')"
   ]
  },
  {
   "cell_type": "markdown",
   "id": "57293ff6-0c76-49a4-a733-2582911c82e0",
   "metadata": {},
   "source": [
    "### 복리 계산\n",
    "![복리계산](./img/복리계산.png)"
   ]
  },
  {
   "cell_type": "code",
   "execution_count": 388,
   "id": "28ed3535-acf9-46a9-ae36-2698e9b47941",
   "metadata": {},
   "outputs": [
    {
     "name": "stdout",
     "output_type": "stream",
     "text": [
      "12년일 때 통장잔액 50,305원\n"
     ]
    }
   ],
   "source": [
    "account =  25000\n",
    "rate = 0.06\n",
    "\n",
    "nums = 0\n",
    "while True:\n",
    "    if (account >= 50000): break\n",
    "    account = account + (account * rate)\n",
    "    nums = nums + 1\n",
    "\n",
    "print(f'{nums}년일 때 통장잔액 {account:,.0f}원')"
   ]
  },
  {
   "cell_type": "code",
   "execution_count": 392,
   "id": "4e4fbf11-e449-4f71-8402-37e2c3dba1cc",
   "metadata": {},
   "outputs": [
    {
     "name": "stdout",
     "output_type": "stream",
     "text": [
      "12년일 때 통장잔액 50,305원\n"
     ]
    }
   ],
   "source": [
    "account =  25000\n",
    "rate = 0.06\n",
    "\n",
    "nums = 0\n",
    "result = 0\n",
    "while True:\n",
    "    result = account * (1 + rate) ** nums\n",
    "    if (result >= 50000): break\n",
    "    nums = nums + 1\n",
    "\n",
    "print(f'{nums}년일 때 통장잔액 {result:,.0f}원')"
   ]
  },
  {
   "cell_type": "markdown",
   "id": "62e2650d-d05b-4349-bc4c-5df10c78b963",
   "metadata": {},
   "source": [
    "### 구구단 출력 v1"
   ]
  },
  {
   "cell_type": "code",
   "execution_count": 399,
   "id": "3976c9a3-d6f1-4e63-949e-f6f066f36269",
   "metadata": {
    "collapsed": true,
    "jupyter": {
     "outputs_hidden": true
    }
   },
   "outputs": [
    {
     "name": "stdout",
     "output_type": "stream",
     "text": [
      "\t\tMultiplication Table\n",
      "      1   2   3   4   5   6   7   8   9\n",
      "----------------------------------------\n",
      "1 |   1   2   3   4   5   6   7   8   9\n",
      "2 |   2   4   6   8  10  12  14  16  18\n",
      "3 |   3   6   9  12  15  18  21  24  27\n",
      "4 |   4   8  12  16  20  24  28  32  36\n",
      "5 |   5  10  15  20  25  30  35  40  45\n",
      "6 |   6  12  18  24  30  36  42  48  54\n",
      "7 |   7  14  21  28  35  42  49  56  63\n",
      "8 |   8  16  24  32  40  48  56  64  72\n",
      "9 |   9  18  27  36  45  54  63  72  81\n"
     ]
    }
   ],
   "source": [
    "print('\\t\\tMultiplication Table')\n",
    "print('      1   2   3   4   5   6   7   8   9')\n",
    "print('-'*40)\n",
    "print('1 |   1   2   3   4   5   6   7   8   9')\n",
    "print('2 |   2   4   6   8  10  12  14  16  18')\n",
    "print('3 |   3   6   9  12  15  18  21  24  27')\n",
    "print('4 |   4   8  12  16  20  24  28  32  36')\n",
    "print('5 |   5  10  15  20  25  30  35  40  45')\n",
    "print('6 |   6  12  18  24  30  36  42  48  54')\n",
    "print('7 |   7  14  21  28  35  42  49  56  63')\n",
    "print('8 |   8  16  24  32  40  48  56  64  72')\n",
    "print('9 |   9  18  27  36  45  54  63  72  81')"
   ]
  },
  {
   "cell_type": "markdown",
   "id": "c693358c-1c11-41ae-9700-f55a77fa353e",
   "metadata": {},
   "source": [
    "### 구구단 출력 v2"
   ]
  },
  {
   "cell_type": "code",
   "execution_count": 411,
   "id": "a87077fb-1920-40a0-89f6-2e9924c6c0b1",
   "metadata": {
    "collapsed": true,
    "jupyter": {
     "outputs_hidden": true
    }
   },
   "outputs": [
    {
     "name": "stdout",
     "output_type": "stream",
     "text": [
      "\t  Multiplication Table\n",
      "     1   2   3   4   5   6   7   8   9\n",
      "----------------------------------------\n",
      "1 |  1   2   3   4   5   6   7   8   9\n",
      "1 |  2   4   6   8  10  12  14  16  18\n",
      "1 |  3   6   9  12  15  18  21  24  27\n",
      "1 |  4   8  12  16  20  24  28  32  36\n",
      "1 |  5  10  15  20  25  30  35  40  45\n",
      "1 |  6  12  18  24  30  36  42  48  54\n",
      "1 |  7  14  21  28  35  42  49  56  63\n",
      "1 |  8  16  24  32  40  48  56  64  72\n",
      "1 |  9  18  27  36  45  54  63  72  81\n"
     ]
    }
   ],
   "source": [
    "print('\\t  Multiplication Table')\n",
    "print('     1   2   3   4   5   6   7   8   9')\n",
    "print('-'*40)\n",
    "\n",
    "for i in range(1, 9+1):\n",
    "    print(f'1 | {i*1:2}  {i*2:2}  {i*3:2}  {i*4:2}  {i*5:2}  '\\\n",
    "        f'{i*6:2}  {i*7:2}  {i*8:2}  {i*9:2}')"
   ]
  },
  {
   "cell_type": "markdown",
   "id": "77e9592d-03f1-486d-9a48-411eeb9ec0da",
   "metadata": {},
   "source": [
    "### 구구단 출력 v3"
   ]
  },
  {
   "cell_type": "code",
   "execution_count": 412,
   "id": "0ee8f5be-71d2-429b-b591-8943fe6a1e63",
   "metadata": {
    "collapsed": true,
    "jupyter": {
     "outputs_hidden": true
    }
   },
   "outputs": [
    {
     "name": "stdout",
     "output_type": "stream",
     "text": [
      "\t  Multiplication Table\n",
      "     1   2   3   4   5   6   7   8   9\n",
      "----------------------------------------\n",
      "1 |   1   1   1   1   1   1   1   1   1\n",
      "2 |   2   2   2   2   2   2   2   2   2\n",
      "3 |   3   3   3   3   3   3   3   3   3\n",
      "4 |   4   4   4   4   4   4   4   4   4\n",
      "5 |   5   5   5   5   5   5   5   5   5\n",
      "6 |   6   6   6   6   6   6   6   6   6\n",
      "7 |   7   7   7   7   7   7   7   7   7\n",
      "8 |   8   8   8   8   8   8   8   8   8\n",
      "9 |   9   9   9   9   9   9   9   9   9\n"
     ]
    }
   ],
   "source": [
    "print('\\t  Multiplication Table')\n",
    "print('     1   2   3   4   5   6   7   8   9')\n",
    "print('-'*40)\n",
    "\n",
    "for i in range(1, 9+1):\n",
    "    print(f'{i} |', end='')\n",
    "    for j in range(1, 9+1):\n",
    "        print(f'  {i*1:2}', end='')\n",
    "    print('')"
   ]
  },
  {
   "cell_type": "markdown",
   "id": "27619626-cee2-4b29-be17-2543d2bf3ece",
   "metadata": {},
   "source": [
    "### 주민번호 유효성 검사 v1"
   ]
  },
  {
   "cell_type": "code",
   "execution_count": 468,
   "id": "c0dc6660-83f5-4b8b-bb23-6bba423a0253",
   "metadata": {},
   "outputs": [],
   "source": [
    "#jumin = '123456-1234567'\n",
    "#jumin = '123456-1222331'\n",
    "jumin = '970908-2117816'"
   ]
  },
  {
   "cell_type": "code",
   "execution_count": 448,
   "id": "4d776850-07ba-463a-a7cb-81e5bddf2876",
   "metadata": {},
   "outputs": [],
   "source": [
    "# 주민번호 각 자리값에 미리 정의된 가중치를 곱함\n",
    "\n",
    "weight1 = int(jumin[0]) * 2\n",
    "weight2 = int(jumin[1]) * 3\n",
    "weight3 = int(jumin[2]) * 4\n",
    "weight4 = int(jumin[3]) * 5\n",
    "weight5 = int(jumin[4]) * 6\n",
    "weight6 = int(jumin[5]) * 7\n",
    "weight7 = int(jumin[7]) * 8\n",
    "weight8 = int(jumin[8]) * 9\n",
    "weight9 = int(jumin[9]) * 2\n",
    "weight10 = int(jumin[10]) * 3\n",
    "weight11 = int(jumin[11]) * 4\n",
    "weight12 = int(jumin[12]) * 5"
   ]
  },
  {
   "cell_type": "code",
   "execution_count": 449,
   "id": "0c096848-77a4-4790-89ac-1c2acfae7b7f",
   "metadata": {},
   "outputs": [
    {
     "data": {
      "text/plain": [
       "225"
      ]
     },
     "execution_count": 449,
     "metadata": {},
     "output_type": "execute_result"
    }
   ],
   "source": [
    "# 계산된 가중치값을 모두 더함\n",
    "\n",
    "sum = weight1 + weight2 + weight3 + weight4 + weight5 + weight6 + \\\n",
    "    weight7 + weight8 + weight9 + weight10 + weight11 + weight12\n",
    "sum"
   ]
  },
  {
   "cell_type": "code",
   "execution_count": 453,
   "id": "980116af-b604-4417-92af-d0896059bf55",
   "metadata": {},
   "outputs": [
    {
     "data": {
      "text/plain": [
       "6"
      ]
     },
     "execution_count": 453,
     "metadata": {},
     "output_type": "execute_result"
    }
   ],
   "source": [
    "# 모두 더한 값을 11로 나눠 나머지를 계산하고\n",
    "# 이것을 11에서 뺌\n",
    "# 만약, 뺀 결과값이 2자리라면 10으로 나머지 연산\n",
    "\n",
    "key = 11 - (sum % 11)\n",
    "key"
   ]
  },
  {
   "cell_type": "code",
   "execution_count": 455,
   "id": "0bdfc38a-6c12-4a69-b90e-769268b8a92d",
   "metadata": {},
   "outputs": [
    {
     "data": {
      "text/plain": [
       "True"
      ]
     },
     "execution_count": 455,
     "metadata": {},
     "output_type": "execute_result"
    }
   ],
   "source": [
    "# 최종적으로 계산된 결과값과 \n",
    "# 주민번호 마지막 자리 값 비교\n",
    "\n",
    "key == int(jumin[13])"
   ]
  },
  {
   "cell_type": "markdown",
   "id": "efe314b6-5664-4bde-bdb8-cc3d5d8b113c",
   "metadata": {},
   "source": [
    "### 주민번호 유효성 검사 v2"
   ]
  },
  {
   "cell_type": "code",
   "execution_count": 474,
   "id": "be87a5de-9276-4fc1-82e4-d28e4bae1289",
   "metadata": {},
   "outputs": [],
   "source": [
    "weights = [2,3,4,5,6,7,8,9,2,3,4,5]\n",
    "pos = [0,1,2,3,4,5,7,8,9,10,11,12]\n",
    "sum = 0"
   ]
  },
  {
   "cell_type": "code",
   "execution_count": 475,
   "id": "ce33a00e-7aa0-40c4-bb5b-ea7dc810f4cf",
   "metadata": {},
   "outputs": [],
   "source": [
    "for i in range(len(weights)):\n",
    "    sum = sum + int(jumin[pos[i]]) * weights[i]"
   ]
  },
  {
   "cell_type": "code",
   "execution_count": 476,
   "id": "ed1ca638-d5b3-4868-b0a6-59fe17ba5de8",
   "metadata": {},
   "outputs": [
    {
     "data": {
      "text/plain": [
       "True"
      ]
     },
     "execution_count": 476,
     "metadata": {},
     "output_type": "execute_result"
    }
   ],
   "source": [
    "key = 11 - (sum % 11)\n",
    "key == int(jumin[13])"
   ]
  }
 ],
 "metadata": {
  "kernelspec": {
   "display_name": "Python 3 (ipykernel)",
   "language": "python",
   "name": "python3"
  },
  "language_info": {
   "codemirror_mode": {
    "name": "ipython",
    "version": 3
   },
   "file_extension": ".py",
   "mimetype": "text/x-python",
   "name": "python",
   "nbconvert_exporter": "python",
   "pygments_lexer": "ipython3",
   "version": "3.11.4"
  }
 },
 "nbformat": 4,
 "nbformat_minor": 5
}
