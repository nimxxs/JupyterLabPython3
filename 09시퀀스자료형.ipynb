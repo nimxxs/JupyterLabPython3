{
 "cells": [
  {
   "cell_type": "markdown",
   "id": "7c4592f1-a269-4eb3-956f-06d1c91756bd",
   "metadata": {},
   "source": [
    "### 튜플\n",
    "* 객체 생성은 ()를 이용\n",
    "* 리스트와 달리 요소 수정, 요소 삭제 불가"
   ]
  },
  {
   "cell_type": "code",
   "execution_count": 3,
   "id": "48091546-c426-4129-9d03-b425cd032d83",
   "metadata": {},
   "outputs": [
    {
     "name": "stdout",
     "output_type": "stream",
     "text": [
      "()\n",
      "(1, 2, 3)\n",
      "(4, 'abc123', False)\n"
     ]
    }
   ],
   "source": [
    "# 튜플 선언\n",
    "\n",
    "a = ()\n",
    "b = (1,2,3)\n",
    "c = (4, 'abc123', False)\n",
    "\n",
    "print(a)\n",
    "print(b)\n",
    "print(c)"
   ]
  },
  {
   "cell_type": "code",
   "execution_count": 4,
   "id": "5fb9531f-dabe-4dd9-a11f-b2efa367a5e8",
   "metadata": {},
   "outputs": [
    {
     "name": "stdout",
     "output_type": "stream",
     "text": [
      "('life', 'is', 'too', 'cold')\n",
      "life cold\n",
      "cold life\n"
     ]
    }
   ],
   "source": [
    "d = ('life','is','too','cold')\n",
    "\n",
    "print(d)\n",
    "print(d[0], d[3])\n",
    "print(d[-1], d[-4])"
   ]
  },
  {
   "cell_type": "code",
   "execution_count": 5,
   "id": "81b73538-ea31-4750-afc6-02429c34b583",
   "metadata": {},
   "outputs": [
    {
     "name": "stdout",
     "output_type": "stream",
     "text": [
      "('life', 'is')\n",
      "('too', 'cold')\n",
      "('cold', 'too', 'is', 'life')\n"
     ]
    }
   ],
   "source": [
    "print(d[:2])\n",
    "print(d[2:])\n",
    "print(d[::-1])"
   ]
  },
  {
   "cell_type": "code",
   "execution_count": 6,
   "id": "2340bd5b-c08f-4393-a9a9-091a9637fc0f",
   "metadata": {},
   "outputs": [
    {
     "ename": "AttributeError",
     "evalue": "'tuple' object has no attribute 'append'",
     "output_type": "error",
     "traceback": [
      "\u001b[0;31m---------------------------------------------------------------------------\u001b[0m",
      "\u001b[0;31mAttributeError\u001b[0m                            Traceback (most recent call last)",
      "Cell \u001b[0;32mIn[6], line 3\u001b[0m\n\u001b[1;32m      1\u001b[0m names \u001b[38;5;241m=\u001b[39m ()\n\u001b[0;32m----> 3\u001b[0m \u001b[43mnames\u001b[49m\u001b[38;5;241;43m.\u001b[39;49m\u001b[43mappend\u001b[49m(\u001b[38;5;124m'\u001b[39m\u001b[38;5;124m수지\u001b[39m\u001b[38;5;124m'\u001b[39m)\n",
      "\u001b[0;31mAttributeError\u001b[0m: 'tuple' object has no attribute 'append'"
     ]
    }
   ],
   "source": [
    "names = ('혜교','지현')\n",
    "\n",
    "names.append('수지') # 오류 발생! - 지원 불가 (이미 만들어져 있는 곳에 추가할 수 없음)"
   ]
  },
  {
   "cell_type": "code",
   "execution_count": 17,
   "id": "eabe43f1-5662-4f19-ae4a-4fdad9f3f2a3",
   "metadata": {},
   "outputs": [
    {
     "ename": "TypeError",
     "evalue": "'tuple' object does not support item assignment",
     "output_type": "error",
     "traceback": [
      "\u001b[0;31m---------------------------------------------------------------------------\u001b[0m",
      "\u001b[0;31mTypeError\u001b[0m                                 Traceback (most recent call last)",
      "Cell \u001b[0;32mIn[17], line 1\u001b[0m\n\u001b[0;32m----> 1\u001b[0m \u001b[43mnames\u001b[49m\u001b[43m[\u001b[49m\u001b[38;5;241;43m0\u001b[39;49m\u001b[43m]\u001b[49m \u001b[38;5;241m=\u001b[39m \u001b[38;5;124m'\u001b[39m\u001b[38;5;124m블랙핑크\u001b[39m\u001b[38;5;124m'\u001b[39m  \u001b[38;5;66;03m# 오류 발생! - 지원 불가 (처음에 만들어졌으면 수정 불가)\u001b[39;00m\n",
      "\u001b[0;31mTypeError\u001b[0m: 'tuple' object does not support item assignment"
     ]
    }
   ],
   "source": [
    "names[0] = '블랙핑크'  # 오류 발생! - 지원 불가 (처음에 만들어졌으면 수정 불가)"
   ]
  },
  {
   "cell_type": "code",
   "execution_count": 18,
   "id": "677c9017-7750-46e1-9e53-494a5cb8ef13",
   "metadata": {},
   "outputs": [
    {
     "ename": "AttributeError",
     "evalue": "'tuple' object has no attribute 'remove'",
     "output_type": "error",
     "traceback": [
      "\u001b[0;31m---------------------------------------------------------------------------\u001b[0m",
      "\u001b[0;31mAttributeError\u001b[0m                            Traceback (most recent call last)",
      "Cell \u001b[0;32mIn[18], line 1\u001b[0m\n\u001b[0;32m----> 1\u001b[0m \u001b[43mnames\u001b[49m\u001b[38;5;241;43m.\u001b[39;49m\u001b[43mremove\u001b[49m(\u001b[38;5;124m'\u001b[39m\u001b[38;5;124m혜교\u001b[39m\u001b[38;5;124m'\u001b[39m)  \u001b[38;5;66;03m# 오류 발생! - 지원 불가 (처음에 만들어졌으면 삭제 불가)\u001b[39;00m\n",
      "\u001b[0;31mAttributeError\u001b[0m: 'tuple' object has no attribute 'remove'"
     ]
    }
   ],
   "source": [
    "names.remove('혜교')  # 오류 발생! - 지원 불가 (처음에 만들어졌으면 삭제 불가)"
   ]
  },
  {
   "cell_type": "markdown",
   "id": "81f3c6ac-354e-458f-b2af-91a006975782",
   "metadata": {},
   "source": [
    "### 만약, 튜플을 변경하고 싶다면?\n",
    "* list함수로 튜플을 리스트로 바꾼 후, 작업을 하고 난 뒤\n",
    "* tuple 함수로 다시 튜플로 변경해 줌"
   ]
  },
  {
   "cell_type": "code",
   "execution_count": 7,
   "id": "a656814c-724c-4822-901a-f4a9e1a4b8dc",
   "metadata": {},
   "outputs": [
    {
     "data": {
      "text/plain": [
       "('혜교', '지현', '수지')"
      ]
     },
     "execution_count": 7,
     "metadata": {},
     "output_type": "execute_result"
    }
   ],
   "source": [
    "names = ('혜교','지현')\n",
    "\n",
    "names = list(names) # 튜플 -> 리스트\n",
    "names.append('수지')\n",
    "\n",
    "names = tuple(names) # 리스트 -> 튜플\n",
    "names"
   ]
  },
  {
   "cell_type": "markdown",
   "id": "1fe3758f-e0f7-49c4-99c2-d471aa9ba282",
   "metadata": {},
   "source": [
    "### 실습문제"
   ]
  },
  {
   "cell_type": "code",
   "execution_count": 131,
   "id": "fcb437e8-d3be-44b4-88f1-90790791c194",
   "metadata": {},
   "outputs": [],
   "source": [
    "# 2개의 튜플을 각각 생성하고, 이것을 하나의 리스트로 생성\n",
    "# t1 = (1,2,3,4,5)\n",
    "# t2 = (6,7,8,9,10)\n",
    "\n",
    "fruit = ('사과','배','파인애플','포도')\n",
    "price = (5000,7000,45000,6000)\n",
    "\n",
    "result = []"
   ]
  },
  {
   "cell_type": "code",
   "execution_count": 133,
   "id": "b952a74c-3e8a-4fb8-b5a9-be0e0f3f3e02",
   "metadata": {},
   "outputs": [],
   "source": [
    "# for i in range(len(t1)):\n",
    "#     result.append(t1[i])\n",
    "#     result.append(t2[i])\n",
    "\n",
    "# 선생님 코드\n",
    "for i in range(len(fruit)):\n",
    "    result.append(fruit[i])\n",
    "    result.append(price[i])"
   ]
  },
  {
   "cell_type": "code",
   "execution_count": 134,
   "id": "f0c7d82d-0566-47a8-8292-d5382b519179",
   "metadata": {},
   "outputs": [
    {
     "name": "stdout",
     "output_type": "stream",
     "text": [
      "과일 튜플 :  (1, 2, 3, 4, 5)\n",
      "가격 튜플 :  (6, 7, 8, 9, 10)\n",
      "과일 + 가격 리스트 :  ['사과', 5000, '배', 7000, '파인애플', 45000, '포도', 6000]\n"
     ]
    }
   ],
   "source": [
    "# print('1번 튜플 : ', t1)\n",
    "# print('2번 튜플 : ', t2)\n",
    "# print('1 + 2번 리스트 : ', result)\n",
    "\n",
    "# 선생님 코드\n",
    "print('과일 튜플 : ', t1)\n",
    "print('가격 튜플 : ', t2)\n",
    "print('과일 + 가격 리스트 : ', result)"
   ]
  },
  {
   "cell_type": "markdown",
   "id": "0708fbfa-9a45-41dd-adee-fc8eac18905f",
   "metadata": {},
   "source": [
    "### 세트\n",
    "* 객체 생성은 {}를 이용\n",
    "* 리스트와 달리 저장 순서를 기억하지 않고, 중복 삽입 불가"
   ]
  },
  {
   "cell_type": "code",
   "execution_count": 10,
   "id": "832d4bad-b96b-4144-8a62-b731a03d58f1",
   "metadata": {},
   "outputs": [
    {
     "name": "stdout",
     "output_type": "stream",
     "text": [
      "{}\n",
      "{1, 2, 3}\n",
      "{'o', 'H', 'e', 'l'}\n"
     ]
    }
   ],
   "source": [
    "e = {}\n",
    "f = {1, 2, 3}\n",
    "g = {'H','e','l','l','o'}\n",
    "\n",
    "print(e)\n",
    "print(f)\n",
    "print(g)"
   ]
  },
  {
   "cell_type": "code",
   "execution_count": 12,
   "id": "8771f918-5cf3-49cd-b083-500aa376ae06",
   "metadata": {},
   "outputs": [
    {
     "name": "stdout",
     "output_type": "stream",
     "text": [
      "o l\n"
     ]
    }
   ],
   "source": [
    "# set에 저장된 개별 요소에 접근하려면 리스트로의 변환 필요\n",
    "g2 = list(g)\n",
    "\n",
    "print(g2[0], g2[3])"
   ]
  },
  {
   "cell_type": "code",
   "execution_count": 16,
   "id": "ca08d280-8a55-4db3-8008-d02bd04c9955",
   "metadata": {},
   "outputs": [
    {
     "name": "stdout",
     "output_type": "stream",
     "text": [
      "apple : 2140662838700391200\n",
      "peach : 2704057508391709152\n",
      "orange : 327340387747876416\n",
      "banana : 1801832389819538951\n"
     ]
    }
   ],
   "source": [
    "# 집합내 모든 요소에 접근하려면 for 함수 사용\n",
    "# 출력순서는 해쉬코드값에 의해 출력\n",
    "\n",
    "fruits = {'apple','peach','banana','orange'}\n",
    "\n",
    "for fruit in fruits:\n",
    "    print(f'{fruit} : {fruit.__hash__()}')"
   ]
  },
  {
   "cell_type": "code",
   "execution_count": 21,
   "id": "90a9b2c4-571e-43b4-a57d-513129b5896b",
   "metadata": {},
   "outputs": [
    {
     "data": {
      "text/plain": [
       "{'수지', '지현', '혜교'}"
      ]
     },
     "execution_count": 21,
     "metadata": {},
     "output_type": "execute_result"
    }
   ],
   "source": [
    "# 데이터 추가\n",
    "names = set()\n",
    "\n",
    "names.add('혜교')\n",
    "names.add('지현')\n",
    "names.add('수지')\n",
    "\n",
    "names"
   ]
  },
  {
   "cell_type": "code",
   "execution_count": 23,
   "id": "87cef469-dc3a-494f-9544-7ee8298db549",
   "metadata": {},
   "outputs": [
    {
     "name": "stdout",
     "output_type": "stream",
     "text": [
      "수지 6643726551891889137\n",
      "혜교 -351273123368072714\n",
      "지현 -8878715053597348137\n"
     ]
    }
   ],
   "source": [
    "for name in names:\n",
    "    print(f'{name} {name.__hash__()}')"
   ]
  },
  {
   "cell_type": "markdown",
   "id": "f3e783d9-bff7-4295-8710-a886fa32208d",
   "metadata": {},
   "source": [
    "### 실습문제\n",
    "* 1부터 45사이 임의의 난수 6개를 생성 (중복허용x)\n",
    "* 리스트와 집합을 이용"
   ]
  },
  {
   "cell_type": "code",
   "execution_count": 42,
   "id": "8bf0ff6e-9884-4f6a-af14-d20c59ace0f7",
   "metadata": {},
   "outputs": [],
   "source": [
    "import random as rnd"
   ]
  },
  {
   "cell_type": "code",
   "execution_count": 101,
   "id": "ea224f8e-a930-463a-a5f8-c900cfd1562a",
   "metadata": {},
   "outputs": [
    {
     "data": {
      "text/plain": [
       "[12, 38, 7, 12, 1, 2]"
      ]
     },
     "execution_count": 101,
     "metadata": {},
     "output_type": "execute_result"
    }
   ],
   "source": [
    "# 리스트\n",
    "lottos = []\n",
    "\n",
    "# 반복문에서 변수의 역할이 없을 경우 i 대신 _로 사용가능함\n",
    "for _ in range(6):\n",
    "    lottos.append(rnd.randint(1, 45))\n",
    "\n",
    "lottos"
   ]
  },
  {
   "cell_type": "code",
   "execution_count": 81,
   "id": "80ab33d3-e843-4205-beec-a3b9829e0ff9",
   "metadata": {},
   "outputs": [
    {
     "data": {
      "text/plain": [
       "{10, 11, 27, 30, 31, 44}"
      ]
     },
     "execution_count": 81,
     "metadata": {},
     "output_type": "execute_result"
    }
   ],
   "source": [
    "# 집합\n",
    "lottos = set()\n",
    "\n",
    "while len(lottos) <= 5:\n",
    "    lottos.add(rnd.randint(1, 45))\n",
    "\n",
    "lottos"
   ]
  },
  {
   "cell_type": "code",
   "execution_count": 94,
   "id": "368f9772-20a5-471e-9914-7c61f35f56e4",
   "metadata": {},
   "outputs": [
    {
     "data": {
      "text/plain": [
       "[33, 41, 40, 25, 17, 3]"
      ]
     },
     "execution_count": 94,
     "metadata": {},
     "output_type": "execute_result"
    }
   ],
   "source": [
    "# 리스트 (중복 허용 x)\n",
    "lottos = []\n",
    "\n",
    "while len(lottos) <= 5:\n",
    "    lotto = rnd.randint(1, 45)\n",
    "    if lotto not in lottos: # 중복된 값이 없다면\n",
    "        lottos.append(lotto)\n",
    "\n",
    "lottos"
   ]
  },
  {
   "cell_type": "code",
   "execution_count": null,
   "id": "27f37ad7-db81-4804-a037-513340116c7c",
   "metadata": {},
   "outputs": [],
   "source": []
  }
 ],
 "metadata": {
  "kernelspec": {
   "display_name": "Python 3 (ipykernel)",
   "language": "python",
   "name": "python3"
  },
  "language_info": {
   "codemirror_mode": {
    "name": "ipython",
    "version": 3
   },
   "file_extension": ".py",
   "mimetype": "text/x-python",
   "name": "python",
   "nbconvert_exporter": "python",
   "pygments_lexer": "ipython3",
   "version": "3.11.4"
  }
 },
 "nbformat": 4,
 "nbformat_minor": 5
}
